{
 "cells": [
  {
   "cell_type": "markdown",
   "metadata": {},
   "source": [
    "# Scraping"
   ]
  },
  {
   "cell_type": "code",
   "execution_count": null,
   "metadata": {},
   "outputs": [],
   "source": [
    "# username = driver.find_element_by_name('username')\n",
    "# password = driver.find_element_by_name('password')\n",
    "\n",
    "# username.send_keys('Josh')\n",
    "# password.send_keys('Limowitz13!') #passing details into website automatically\n",
    "\n",
    "# login_button = driver.find_element_by_name('submit') \n",
    "# login_button.click() #clicking on button"
   ]
  },
  {
   "cell_type": "code",
   "execution_count": 1,
   "metadata": {},
   "outputs": [],
   "source": [
    "from selenium import webdriver\n",
    "from bs4 import BeautifulSoup\n",
    "import pandas as pd\n",
    "import matplotlib.pyplot as plt"
   ]
  },
  {
   "cell_type": "code",
   "execution_count": 94,
   "metadata": {},
   "outputs": [],
   "source": [
    "website = 'https://www.airbnb.ca/rooms/2284840?source_impression_id=p3_1571525312_hCBYip0DYX%2BCgERF'"
   ]
  },
  {
   "cell_type": "code",
   "execution_count": 95,
   "metadata": {},
   "outputs": [
    {
     "name": "stdout",
     "output_type": "stream",
     "text": [
      "Im sleeping!!\n",
      "Im doing work\n"
     ]
    }
   ],
   "source": [
    "from time import sleep\n",
    "from selenium.webdriver.common.keys import Keys\n",
    "#Configuring webdriver to use chrome browser\n",
    "driver = webdriver.Chrome(\"C:/Users/mindy/Downloads/chromedriver_win32/chromedriver.exe\")\n",
    "driver.get(website)\n",
    "print('Im sleeping!!')\n",
    "sleep(5)\n",
    "print('Im doing work')"
   ]
  },
  {
   "cell_type": "code",
   "execution_count": 108,
   "metadata": {},
   "outputs": [],
   "source": [
    "content = driver.page_source #this returns a html file\n",
    "soup = BeautifulSoup(content, 'lxml') #this will parse html into unicode"
   ]
  },
  {
   "cell_type": "markdown",
   "metadata": {},
   "source": [
    "# Scraping Through Individual Reviews"
   ]
  },
  {
   "cell_type": "code",
   "execution_count": 126,
   "metadata": {},
   "outputs": [
    {
     "name": "stdout",
     "output_type": "stream",
     "text": [
      "We had an amazing 3 days at Dave's cottage! The private lake was beautiful and the perfect size, and we loved the diving rock/rope swing on the other side of the lake. The cabin was the perfect size for 10 of us all, very cozy and comfortable. The Sauna was also amazing along with the fire pit to keep us entertained and warm at night. Would definitely come back anytime.\n",
      "__________________________________________________________\n",
      "David was very helpful in everyday possible. He made us feel very welcome and we were so lucky to experience and stay at his beautiful property. We were in a group of 10 and spent the entire weekend at his property, with our own private lake, sauna and walking trails to explore. It was a great escape from the city. Will definitely recommend this place and David as a host to any fellow traveller. \n",
      "__________________________________________________________\n",
      "David's place is absolutely amazing! I would definitely recommend it to any group hoping to get out into the \"wilderness\" and take a break from the city-scape. Me and a group of 9 others went out to this home for a weekend away and really enjoyed swimming in the (private) lake, stoking fires (indoor and outdoor) and generally taking a break from technology in a very quaint and very removed setting. \r\n",
      "Thank you so much David!\n",
      "__________________________________________________________\n",
      "Bushman\r\n",
      "\n",
      "__________________________________________________________\n",
      "By phone 24/7\n",
      "Most guests will enjoy the unique chance to be on their own , but any level of hosting can be negotiated. I might show up for check in and out depending on which way the wind is blowing me on those days.\n",
      "__________________________________________________________\n"
     ]
    },
    {
     "data": {
      "text/plain": [
       "[\"Incredibly unique and beautiful spot. There is no other property like it. It's very private and ideal for a modest outdoorsman. There are more than enough touches to make it a comfortable stay. The lake and sauna are very relaxing and should definitely be enjoyed. The cabin is very well equipped and comes with chopped firewood so the stay can be easy. Dave was a great host and a phone call away to answer our questions. Will definitely consider returning!!\",\n",
       " 'This cottage offers a rare opportunity it experience Canadian beauty without intrusion from the outside world. Clean and comfortable an all round amazing trip.',\n",
       " 'Our stay at Michabo lake was fantastic. The cabin and bunkie were tidy, the beds were comfortable, and the lake was great for swimming and fishing. It was very private. We had plenty of cooking amenities, and the hot water from the sauna was great for showers and doing dishes. All in all a very relaxing weekend at the lake.',\n",
       " \"This is an OUTSTANDING place! It is extremely rare that you can find such a secluded place with all lake just for you. The cottage actually has everything that you need, it accomdates 10 people comfortably, and everything is in good condition. The shower is outside the sauna, but really the water in the lake is so warm, that we never used that shower. The forest around the cottage is amazing and full of life. I would highly recommend this place to anyone. Also, please take into account that you need to have enough space in your trunk to pick up your garbage (the nearest landfill is the West Guilford Landfill site), don't repeat our mistake. This is an extraordinary getaway for people who want to retreat from busy city life.\",\n",
       " \"I stayed at David's cottage for a family getaway this summer. The whole experience was amazing. David made sure that we knew everything about the property ahead of time and the place was in perfect condition when we arrived. It was the perfect isolated getaway that we were looking for. The lake was nice and warm for swimming and with lots of seating both at the water and around the fire pit there was always somewhere to relax and enjoy nature. We didn't get to use the sauna this time around, but it looked great and we will be sure to next time. There were enough beds for everyone (all nice and clean) so no one had to sleep on a couch. The fire pit had grills for cooking, so we were able to stay outside all weekend, not getting cooped up in the cottage. I would absolutely recommend this property to anyone looking for a nice getaway from the busy world. I will 100% be returning to David's cottage.\",\n",
       " 'David’s place is truly an amazing experience. The notion of “private lake” is not an understatement. I visited the cottage with 9 other friends and it was beyond all of our expectations. If you do not need a phone for a weekend this is truly the place to stay. Authentic cottage, separate bunky cabin, sauna, outdoor shower... 10/10 stay, would book again. David is also an amazing host and instantly helped us out of a jam when our car would not start on the way out... not even that hiccup could ruin the experience.',\n",
       " \"Charming, rustic spot with a beautiful private lake! Dave's place is very basic but it's what makes it charming. A great escape from the city!\",\n",
       " 'Bushman\\r\\n',\n",
       " 'By phone 24/7\\nMost guests will enjoy the unique chance to be on their own , but any level of hosting can be negotiated. I might show up for check in and out depending on which way the wind is blowing me on those days.',\n",
       " 'The pictures of this place don’t do it justice. As soon as we arrived it was clear we were in for a great weekend.',\n",
       " 'an amazing private retreat for a group,beautiful lake all to yourselves, a rustic, but perfectly maintained main cottage with cool, little bunkie.Sauna was an excellent addition as it heated water for the cabin as well as a outdoor shower, the dock out on the lake was a perfect spot to relax and the fire pit was handy for its nice size grill, good spot',\n",
       " 'Great location would come back anytime',\n",
       " \"David's cottage is absolutely amazing! David answered all our questions and concerns quickly and helped whenever we had questions during our stay. The lake and view is worth every pennie! The cottage itself is beautiful and has alot of amenities such as the sauna and hot water system. 100% will be booking again soon.\",\n",
       " 'This cottage is something out of the past. You get to have your peace and quiet away from the crazy city life and just be in tune with nature. My cell battery lasted me the whole long weekend there and it usually doesn’t last me half a day. It feels good to be away from those kind of distractions and have a breath of fresh air with a view of a private lake and Be surrounded by trees. The view of the sky at night is breathtaking with no city lights around and the lake was much nicer than we had thought. ',\n",
       " 'This was a great experience. Our group enjoyed the seclusion of the cabin and private lake.\\n\\nI recommend bringing a canoe. We spent most of our time in ours out on the water fishing or swimming. \\n\\nWe did all of our cooking on the fire pit. I recommend bringing charcoals.\\n\\nDavid was a great host and was available 24/7.\\n\\nI would definitely return for another stay.',\n",
       " 'Best Airbnb experience ever! David is super nice and patient. He will give you very detailed information about almost anything you will ever need to know during the stay.\\n\\nThe property is stunning and private. We all had great fun. Pictures can’t show how beautiful it is.\\n\\nP.S. the raccoons in the grass at night kinda scared my girlfriend but surely they were harmless.',\n",
       " 'Bushman\\r\\n',\n",
       " 'By phone 24/7\\nMost guests will enjoy the unique chance to be on their own , but any level of hosting can be negotiated. I might show up for check in and out depending on which way the wind is blowing me on those days.',\n",
       " 'This place is amazing! My friends and I we all love this place. Those pictures on Airbnb just can’t show how beautiful this place is! You have to see it with your own eyes. David is patient and hospitable, he answered all my questions and give me a lot of advice to make our stay more comfortable and unforgettable!',\n",
       " \"We're only a couple of hours removed from staying at Michabo, and miss the place already! Michabo really is one of the most beautiful, private locations you could ever imagine. Dave is an exemplary Airbnb host, and goes out of his way to make sure his guests are taken care of. Have had some amazing times here already, and am looking forward to making some more memories the next time around. Thanks again!\",\n",
       " \"This was our third trip here and we are already looking forward to coming back next year. You can't beat this amazing spot. Beautiful property, amazing water, privacy and so peaceful. David is a great host who respects the great outdoors, always asks for ways that he can improve the experience for others. \\n\\nLots of extra space to pitch tents, lots of pots/pans in the kitchen, great grilling pit, heavenly sauna/shower. I would do anything to live here!\",\n",
       " \"Pictures absolutely don't do this place justice. The cabin is beautiful, rustic and spacious. Being on a private lake is such a treat, the water is gorgeous and calm and we took full advantage of the huge floating dock and the jumping rocks. David is an excellent communicator and a wonderful host. Folks in my group have come twice and we're definitely going to make this an annual thing- five stars!\",\n",
       " \"Perfect. Nothing better. We were blown away by this property, it is stunning and comfortable. I wouldn't change a thing. It's great to have total privacy in such a pristine environment. David was incredibly hospitable and a real gent. Thnaks!\",\n",
       " 'Quiet, picturesque and peaceful. A getaway from the city in every way! Off grid living at its most luxurious! Outdoor showers, saunas and an outhouse with a view. Our group of 9 had more than enough space and loved every minute of the experience. Dave is helpful and always a call away. ',\n",
       " \"This place is a treasure from the past totally, if you have parents or grandparents who talk about the good old days, then you must visit and stay. They don't tell you about the wonderful stars at night or wolf howls or bear poop in the back lane, but they also don't remember stinky outhouse or making a fire to last all night and  stay warm. Most of all they wont tell you about cooking a 22lb Turkey and Thanksgiving dinner the old fashioned way. \\r\\n\\r\\nIt's a must do. \\r\\n\\r\\nStayed here with my kids ages 24, 22, 20 and 4, perfect escape, with no electricity, but there is cell data service, so you do have the best of both worlds if you have a battery back-up.  \",\n",
       " 'Bushman\\r\\n',\n",
       " 'By phone 24/7\\nMost guests will enjoy the unique chance to be on their own , but any level of hosting can be negotiated. I might show up for check in and out depending on which way the wind is blowing me on those days.',\n",
       " 'We love Michabo! Thank you :)',\n",
       " 'David is a wonderful and attentive host who obviously cares about your experience on this unique property. This was our second trip to this cabin and we would do anything to stay here forever. This is paradise and an unbelievably serene experience. The lake is stunning and the cabin is quite spacious. Potentially my favorite place in Ontario. ',\n",
       " 'Wonderful cottage, fantastic scenery, beautiful lake for swimming and fishing! All round a brilliant place to stay! Very authentic Canadian feel to the place and Dave was an absolute gentleman helping us plan our trip! ',\n",
       " \"There was absolutely nothing that could have made this experience any better. the perfect getaway for anyone who just wants to get away from everything. The cabin was amazing, the surroundings were jaw dropping and our host david couldn't have been more accommodating, reiterating multiple times that we could call him at any time with any questions or concerns. We will be rebooking for multiple weekends for years to come. An absolute pleasure.\",\n",
       " \"David's property well exceeded expectations, pictures could never do this place justice. A truly secluded paradise for those who enjoy simplicity at the cottage. I will absolutely be back here with friends and family in the future! \",\n",
       " 'We had the most wonderful stay on Lake Michabo - relaxing and completely private, we were in heaven.  Great to be unplugged from the outside world, too.  Dave was one of the best hosts ever - so communicative and available 24-7, it really put our minds at ease and we enjoyed…Read more',\n",
       " \"This was our second time at David's cottage in West Guilford, and it was just as amazing as the first.\\r\\n\\r\\nThe biggest draw of this space for us was the total privacy, no one around to bother or be bothered by. Our group of 10 was more than comfortable inside the cottage with…Read more\",\n",
       " 'Bushman\\r\\n',\n",
       " 'By phone 24/7\\nMost guests will enjoy the unique chance to be on their own , but any level of hosting can be negotiated. I might show up for check in and out depending on which way the wind is blowing me on those days.',\n",
       " 'We had a wonderful stay at Michabo!! We stayed two nights and David was available by phone to answer any questions at any time. Not that there were too many questions, the cabin was well set up for our convenience. The lack of electricity actually made the stay that much more enjoyable - without electronics we were able to enjoy the beautiful private lake and land. The cabin and bunk house slept 10 very comfortably. We will definitely be contacting David for future visits.',\n",
       " \"We had an AMAZING LONG WEEKEND at Dave's cabin. The lake is completely private and the cabin is beautiful. The pictures don't do justice to how great the place really is. We spent the whole weekend swimming, sitting in the sauna and cooking great food on the fire pit. Ten adults were more than comfortable. The cabin provides just about everything you'd need including firewood, hot water and a propane fridge. For us this was the perfect mix of creature comforts and rustic living. Dave was very helpful and always available. He ensured we were completely comfortable with the operation of the property before leaving us to enjoy the lake. None of us wanted to leave and we will definitely be coming back. Perfect for families or friend groups.  \\r\\nIf you want to feel like Francis Mallmann in Patagonia, this place is for you. \",\n",
       " 'Dave was a wonderful host and the cottage was absolutely beautiful. We had a wonderful time and hope to visit again. The privacy here is great and the cottage is the perfect rustic cabin in the woods. ',\n",
       " 'Very good environment , nice place to stay.',\n",
       " 'David, The Host: he was very helpful and available, he gave us all info over the phone and made sure we are safe and sound \\r\\n\\r\\nThe Cabin: it was like walking into a museum, going back in time :) the place was clean and had plenty of room for 8 of us, we only used the main cabin as there was enough room for all of us\\r\\n\\r\\nThe Area: this place was beautiful and secluded, very quiet with magnificent view \\r\\n\\r\\nAdvise: If you like quiet and secluded place with private lake, i strongly recommend this place, just make sure you take your own water.\\r\\n\\r\\nOverall we enjoyed our time and had a blast',\n",
       " 'Have rented this place twice now.  Dave was an incredible host.  Very accommodating, and makes every effort to make sure everything is in order prior to arrival.  Accommodations are exactly as displayed.  Beautiful setting.  Would strongly recommend it to anyone looking for an off-grid getaway.',\n",
       " \"this is my 2nd tour @ David's property, 2.5hours away from city, very rugged and totally private. we had an unforgetable 3 days hunting/fishing trip for group of six, and we are planning come back at anytime next year\",\n",
       " 'Bushman\\r\\n',\n",
       " 'By phone 24/7\\nMost guests will enjoy the unique chance to be on their own , but any level of hosting can be negotiated. I might show up for check in and out depending on which way the wind is blowing me on those days.',\n",
       " \"Couldn't have been happier with this amazing spot. A perfect retreat from the the city. Dave was helpful and made himself readily available. The place has a rustic off-grid feel, yet provided our group of 10 all the comforts we needed. Our friends from Ireland were blown away. A great way to experience the best of what Canada has to offer. I will be back!\",\n",
       " \"This beautiful property is definitely undersold in the listing. The property itself is huge and was perfect for our stay, and the cottage and workshop comfortably fit 9 of us with plenty of extra room. The cottage used to be a research camp of sorts, and is filled with character. The view from the private lake was lovely, and the privacy offered us the opportunity to not worry about causing a disturbance or being disturbed. \\r\\n\\r\\nPerhaps most importantly, Dave made it clear he was available 24 hours a day, and didn't hesitate to help when we called him with a few queries. Our entire group has nothing but good things to say about Dave and his property, and we'll absolutely be back.\",\n",
       " 'We rented David\\'s Total Privacy Haliburton place and really liked it. David is an amazing host and is available 24/7 for any questions that you have. This is an amazing place to spend few days. \\r\\n\\r\\nWe also stayed at David\\'s \"Stay in Rugged Haliburton Highlands\" on the same trip - This place is heaven on earth. Beautiful quite area with private access to the lake. We really enjoyed our stay. I highly recommend David\\'s both places to anyone who wants have the best cottage experience of their lives. \\r\\n\\r\\nThe natural beauty of both places are breathtaking. The combination of best host (David) and the cottages equals to a memorable cottage experience.  Simply the best! ',\n",
       " 'The gals and I had a fabulous time at Michabo. It was exactly the kind of spot we were looking for - private, gorgeous, and surrounded by forest. The dock was wonderful for spending the day in the sun, the hills are nice and tough for jogging, the water clear and refreshing for swimming, the sauna is a great touch and the lake produced a nice bass for part of supper Saturday! We brought linens and water and were very happy with the kitchen - well equipped and large enough to allow for many helping hands. We also made great use of the grills by the fire pit, which were very handy. The rope swing across the lake gave a few of us a run for our money! David was helpful and informative, helping us figure out exactly how to make it a perfect stay. Definitely, definitely recommend this to anyone seeking a more rustic back to nature getaway.',\n",
       " \"This cottage is awesome!  Very rugged and totally private.  Beautiful little private lake with good fishing and lots of space to explore.  David was very helpful and available leading up to our vacation.  Loved the sauna and outdoor shower and tub especially.  We'll definitely be going back!\\r\\n\\r\\nThanks David :)\",\n",
       " \"Our stay at this private lake was wonderful! My large group and I love camping, so this property was a real treat - complete privacy, the entire lake to ourselves, space for everyone, and a fire pit. The cabin was even better than expected, with a fridge, stove-top, lanterns, and a wood stove. It's super cosy. Many among my group said the outdoor shower was the best they've ever had IN THEIR LIVES! The sauna, too, was the perfect way to warm up after a dip in the lake. We would definitely recommend it to anyone who is looking for privacy and a rustic experience. Everyone in my group is telling me they want to go back. \\r\\n\\r\\nDavid was a great person to get to know, very helpful, and available 24/7 if I had any questions. I have nothing bad to say. \\r\\n\\r\\nThe only thing I'd note is the dirt road to get to the cabin can be a bit treacherous, so I wouldn't recommend it to anyone with a very low car, and I wouldn't drive at night. Ultimately, we didn't have any trouble though. \",\n",
       " \"I can't recommend this place more. Dave was available anytime for any questions we had, and the cabin was the perfect balance of a rustic back-to-nature experience and a comfortable cottage stay. Warming up in the wood fire sauna, cooking on the firepit, and having a whole lake to yourself swimming as the sun comes up are experiences you simply won't have at a regular cottage. Getting away and being off the grid was something I definitely appreciated. I will for sure be heading back up there again!\",\n",
       " 'Bushman\\r\\n',\n",
       " 'By phone 24/7\\nMost guests will enjoy the unique chance to be on their own , but any level of hosting can be negotiated. I might show up for check in and out depending on which way the wind is blowing me on those days.',\n",
       " \"Couldn't have been happier with this amazing spot. A perfect retreat from the the city. Dave was helpful and made himself readily available. The place has a rustic off-grid feel, yet provided our group of 10 all the comforts we needed. Our friends from Ireland were blown away. A great way to experience the best of what Canada has to offer. I will be back!\",\n",
       " \"This beautiful property is definitely undersold in the listing. The property itself is huge and was perfect for our stay, and the cottage and workshop comfortably fit 9 of us with plenty of extra room. The cottage used to be a research camp of sorts, and is filled with character. The view from the private lake was lovely, and the privacy offered us the opportunity to not worry about causing a disturbance or being disturbed. \\r\\n\\r\\nPerhaps most importantly, Dave made it clear he was available 24 hours a day, and didn't hesitate to help when we called him with a few queries. Our entire group has nothing but good things to say about Dave and his property, and we'll absolutely be back.\",\n",
       " 'We rented David\\'s Total Privacy Haliburton place and really liked it. David is an amazing host and is available 24/7 for any questions that you have. This is an amazing place to spend few days. \\r\\n\\r\\nWe also stayed at David\\'s \"Stay in Rugged Haliburton Highlands\" on the same trip - This place is heaven on earth. Beautiful quite area with private access to the lake. We really enjoyed our stay. I highly recommend David\\'s both places to anyone who wants have the best cottage experience of their lives. \\r\\n\\r\\nThe natural beauty of both places are breathtaking. The combination of best host (David) and the cottages equals to a memorable cottage experience.  Simply the best! ',\n",
       " 'The gals and I had a fabulous time at Michabo. It was exactly the kind of spot we were looking for - private, gorgeous, and surrounded by forest. The dock was wonderful for spending the day in the sun, the hills are nice and tough for jogging, the water clear and refreshing for swimming, the sauna is a great touch and the lake produced a nice bass for part of supper Saturday! We brought linens and water and were very happy with the kitchen - well equipped and large enough to allow for many helping hands. We also made great use of the grills by the fire pit, which were very handy. The rope swing across the lake gave a few of us a run for our money! David was helpful and informative, helping us figure out exactly how to make it a perfect stay. Definitely, definitely recommend this to anyone seeking a more rustic back to nature getaway.',\n",
       " \"This cottage is awesome!  Very rugged and totally private.  Beautiful little private lake with good fishing and lots of space to explore.  David was very helpful and available leading up to our vacation.  Loved the sauna and outdoor shower and tub especially.  We'll definitely be going back!\\r\\n\\r\\nThanks David :)\",\n",
       " \"Our stay at this private lake was wonderful! My large group and I love camping, so this property was a real treat - complete privacy, the entire lake to ourselves, space for everyone, and a fire pit. The cabin was even better than expected, with a fridge, stove-top, lanterns, and a wood stove. It's super cosy. Many among my group said the outdoor shower was the best they've ever had IN THEIR LIVES! The sauna, too, was the perfect way to warm up after a dip in the lake. We would definitely recommend it to anyone who is looking for privacy and a rustic experience. Everyone in my group is telling me they want to go back. \\r\\n\\r\\nDavid was a great person to get to know, very helpful, and available 24/7 if I had any questions. I have nothing bad to say. \\r\\n\\r\\nThe only thing I'd note is the dirt road to get to the cabin can be a bit treacherous, so I wouldn't recommend it to anyone with a very low car, and I wouldn't drive at night. Ultimately, we didn't have any trouble though. \",\n",
       " \"I can't recommend this place more. Dave was available anytime for any questions we had, and the cabin was the perfect balance of a rustic back-to-nature experience and a comfortable cottage stay. Warming up in the wood fire sauna, cooking on the firepit, and having a whole lake to yourself swimming as the sun comes up are experiences you simply won't have at a regular cottage. Getting away and being off the grid was something I definitely appreciated. I will for sure be heading back up there again!\",\n",
       " 'Bushman\\r\\n',\n",
       " 'By phone 24/7\\nMost guests will enjoy the unique chance to be on their own , but any level of hosting can be negotiated. I might show up for check in and out depending on which way the wind is blowing me on those days.',\n",
       " 'Dave was very quick to respond to us and was always available by phone whenever we needed any tips or help on working things in the cottage. He gave us some very helpful suggestions in preparation for our trip.\\r\\nWe loved the authenticity and privacy of the cottage. The decor, furniture, and overall estate had such unique old-school characters. A few of us also got to enjoy the sauna, which was perfect for a rainy day. The hiking trails were interestingly fun as well, and invited a sense of adventure.',\n",
       " \"Serene, peaceful, and total privacy. That's what we experienced while staying at Dave's property. A great host, he walked us through the entire process, and prepared ourselves with one of the best cottaging experience we've ever had. Your own private lake, a nice and cozy 4 bedroom cottage, nestled in a 450 acred wooded paradise. Fishing, hiking, to all your heart's content. It was just starting to get chilly at night, but the wood burning fireplace kept the place nice and inviting. Would definitely go back in a heart beat!\",\n",
       " \"Our long weekend at David's cottage on Michabo Lake was incredible. We loved the landscapes, the privacy and the rawness of the cottage/cabin experience. The sauna and the outdoor bathtubs are also highlights. David was really great to communicate with from the time of the booking to our stay. We will definitively be back!\\r\\n\",\n",
       " 'Michabo Lake was a paradise getaway -- it was very sad leaving it behind on our last day. The dock on the lake is like being at the bottom of your own private amphitheatre surrounded by the forested hills. The cottage has a unique rustic feel about it but is very intelligently designed and comfortable. Our weekend was exceptionally rainy, and so the sauna was another magical corner for hanging out. David was a great host -- really easy going and very helpful. Our group is definitely planning on coming back. Thanks David! ',\n",
       " \"my family had wonderful time before Canada's day long weekend, dave is extremely nice guy to dealing with, i've already shared my story with friends n  planning to come back soon.\",\n",
       " 'The place was excellent. It really was great privacy with exclusive use of the lake and trails near by. We had a lot of fun.\\n\\nDavid thought us the ins and outs of the cabin and sauna and was always available by phone if we had a question.\\n\\nI would throughly recommend staying here to anyone.\\n',\n",
       " 'David’s place is an incredible gem hidden away in the woods. The cabin was just what we all needed to escape our busy schedules and have an awesome guys weekend of fishing and shenanigans. If you appreciate historic amenities, like iron wood fire stoves and antique ice boxes, this place doubles as an awesome museum for Ontario history. The beds were quite comfortable and the cabin clean and tidy when we arrived. The sauna and outdoor tub added to the trip’s rustic luxury. Stay to the right on the little dirt road, and just when you think you’re lost, you’ll find yourself in a little forest oasis. Bring a rod, and hit the dock. Well worth the journey from Alaska.',\n",
       " 'Bushman\\r\\n',\n",
       " 'By phone 24/7\\nMost guests will enjoy the unique chance to be on their own , but any level of hosting can be negotiated. I might show up for check in and out depending on which way the wind is blowing me on those days.',\n",
       " 'This retreat was great. It was private, rustic and relaxing. The lake is much larger than I thought and the water was great to swim in. The cottage and cabins were exactly what we were looking for. Thanks David!',\n",
       " 'Outstanding, historical, relaxing.\\nIt’s hard to describe the beauties with words.\\nReally hope all visitors take good care of the place and keep it just the way it is.',\n",
       " 'Stayed here multiple times. A unique cabin, perfect for getting away from the city and the more overbuilt parts of cottage country. Good for groups!',\n",
       " \"This was our 3rd summer in a row staying at Dave's place, and it was as great as always. His property is amazing and we always wish we could stay longer, definitely going to be back next summer! \",\n",
       " 'This place is pretty special. \\r\\n\\r\\nThe accomodation is like a lake shore holiday antique movie set. Completely constructed from exposed timber with years of accumulated knick knacks , from enormous antique fireplaces and ovens to small trinkets and random old worldly fishing and…Read more',\n",
       " 'This was our second summer in a row staying at michabo and it was just as great as the first! We love the property and private lake, and the sauna is amazing. Definitely planning on going back- and would highly recommend to everyone! ',\n",
       " \"We came and stayed in the cottage during the last weekend of this September. This place has a nice view, especially the lake. You can see the beautiful sunrise and even stay all day at the lake. Also it is really fun to do barbecue near the house as that's a fire pit there.\\r\\nDave is really helpful and he can always answer the call. \\r\\nThank you, Dave! It was an enjoyable experience and I look forward to come again next time!\",\n",
       " 'Bushman\\r\\n',\n",
       " 'By phone 24/7\\nMost guests will enjoy the unique chance to be on their own , but any level of hosting can be negotiated. I might show up for check in and out depending on which way the wind is blowing me on those days.',\n",
       " \"We had an amazing 3 days at Dave's cottage! The private lake was beautiful and the perfect size, and we loved the diving rock/rope swing on the other side of the lake. The cabin was the perfect size for 10 of us all, very cozy and comfortable. The Sauna was also amazing along with the fire pit to keep us entertained and warm at night. Would definitely come back anytime.\",\n",
       " 'David was very helpful in everyday possible. He made us feel very welcome and we were so lucky to experience and stay at his beautiful property. We were in a group of 10 and spent the entire weekend at his property, with our own private lake, sauna and walking trails to explore. It was a great escape from the city. Will definitely recommend this place and David as a host to any fellow traveller. ',\n",
       " 'David\\'s place is absolutely amazing! I would definitely recommend it to any group hoping to get out into the \"wilderness\" and take a break from the city-scape. Me and a group of 9 others went out to this home for a weekend away and really enjoyed swimming in the (private) lake, stoking fires (indoor and outdoor) and generally taking a break from technology in a very quaint and very removed setting. \\r\\nThank you so much David!',\n",
       " 'Bushman\\r\\n',\n",
       " 'By phone 24/7\\nMost guests will enjoy the unique chance to be on their own , but any level of hosting can be negotiated. I might show up for check in and out depending on which way the wind is blowing me on those days.']"
      ]
     },
     "execution_count": 126,
     "metadata": {},
     "output_type": "execute_result"
    }
   ],
   "source": [
    "content = driver.page_source #this returns a html file\n",
    "soup = BeautifulSoup(content, 'lxml') #this will parse html into unicode\n",
    "\n",
    "for review in soup.find_all('div', attrs={'class':'_czm8crp', 'dir': 'ltr'}):\n",
    "    print(review.text)    \n",
    "    print('__________________________________________________________')\n",
    "    table.append(review.text)\n",
    "table"
   ]
  },
  {
   "cell_type": "code",
   "execution_count": 128,
   "metadata": {},
   "outputs": [
    {
     "data": {
      "text/plain": [
       "86"
      ]
     },
     "execution_count": 128,
     "metadata": {},
     "output_type": "execute_result"
    }
   ],
   "source": [
    "len(table)\n",
    "#table"
   ]
  },
  {
   "cell_type": "markdown",
   "metadata": {},
   "source": [
    "# Removing Duplicates"
   ]
  },
  {
   "cell_type": "code",
   "execution_count": 131,
   "metadata": {},
   "outputs": [
    {
     "data": {
      "text/plain": [
       "[\"Incredibly unique and beautiful spot. There is no other property like it. It's very private and ideal for a modest outdoorsman. There are more than enough touches to make it a comfortable stay. The lake and sauna are very relaxing and should definitely be enjoyed. The cabin is very well equipped and comes with chopped firewood so the stay can be easy. Dave was a great host and a phone call away to answer our questions. Will definitely consider returning!!\",\n",
       " 'This cottage offers a rare opportunity it experience Canadian beauty without intrusion from the outside world. Clean and comfortable an all round amazing trip.',\n",
       " 'Our stay at Michabo lake was fantastic. The cabin and bunkie were tidy, the beds were comfortable, and the lake was great for swimming and fishing. It was very private. We had plenty of cooking amenities, and the hot water from the sauna was great for showers and doing dishes. All in all a very relaxing weekend at the lake.',\n",
       " \"This is an OUTSTANDING place! It is extremely rare that you can find such a secluded place with all lake just for you. The cottage actually has everything that you need, it accomdates 10 people comfortably, and everything is in good condition. The shower is outside the sauna, but really the water in the lake is so warm, that we never used that shower. The forest around the cottage is amazing and full of life. I would highly recommend this place to anyone. Also, please take into account that you need to have enough space in your trunk to pick up your garbage (the nearest landfill is the West Guilford Landfill site), don't repeat our mistake. This is an extraordinary getaway for people who want to retreat from busy city life.\",\n",
       " \"I stayed at David's cottage for a family getaway this summer. The whole experience was amazing. David made sure that we knew everything about the property ahead of time and the place was in perfect condition when we arrived. It was the perfect isolated getaway that we were looking for. The lake was nice and warm for swimming and with lots of seating both at the water and around the fire pit there was always somewhere to relax and enjoy nature. We didn't get to use the sauna this time around, but it looked great and we will be sure to next time. There were enough beds for everyone (all nice and clean) so no one had to sleep on a couch. The fire pit had grills for cooking, so we were able to stay outside all weekend, not getting cooped up in the cottage. I would absolutely recommend this property to anyone looking for a nice getaway from the busy world. I will 100% be returning to David's cottage.\",\n",
       " 'David’s place is truly an amazing experience. The notion of “private lake” is not an understatement. I visited the cottage with 9 other friends and it was beyond all of our expectations. If you do not need a phone for a weekend this is truly the place to stay. Authentic cottage, separate bunky cabin, sauna, outdoor shower... 10/10 stay, would book again. David is also an amazing host and instantly helped us out of a jam when our car would not start on the way out... not even that hiccup could ruin the experience.',\n",
       " \"Charming, rustic spot with a beautiful private lake! Dave's place is very basic but it's what makes it charming. A great escape from the city!\",\n",
       " 'Bushman\\r\\n',\n",
       " 'By phone 24/7\\nMost guests will enjoy the unique chance to be on their own , but any level of hosting can be negotiated. I might show up for check in and out depending on which way the wind is blowing me on those days.',\n",
       " 'The pictures of this place don’t do it justice. As soon as we arrived it was clear we were in for a great weekend.',\n",
       " 'an amazing private retreat for a group,beautiful lake all to yourselves, a rustic, but perfectly maintained main cottage with cool, little bunkie.Sauna was an excellent addition as it heated water for the cabin as well as a outdoor shower, the dock out on the lake was a perfect spot to relax and the fire pit was handy for its nice size grill, good spot',\n",
       " 'Great location would come back anytime',\n",
       " \"David's cottage is absolutely amazing! David answered all our questions and concerns quickly and helped whenever we had questions during our stay. The lake and view is worth every pennie! The cottage itself is beautiful and has alot of amenities such as the sauna and hot water system. 100% will be booking again soon.\",\n",
       " 'This cottage is something out of the past. You get to have your peace and quiet away from the crazy city life and just be in tune with nature. My cell battery lasted me the whole long weekend there and it usually doesn’t last me half a day. It feels good to be away from those kind of distractions and have a breath of fresh air with a view of a private lake and Be surrounded by trees. The view of the sky at night is breathtaking with no city lights around and the lake was much nicer than we had thought. ',\n",
       " 'This was a great experience. Our group enjoyed the seclusion of the cabin and private lake.\\n\\nI recommend bringing a canoe. We spent most of our time in ours out on the water fishing or swimming. \\n\\nWe did all of our cooking on the fire pit. I recommend bringing charcoals.\\n\\nDavid was a great host and was available 24/7.\\n\\nI would definitely return for another stay.',\n",
       " 'Best Airbnb experience ever! David is super nice and patient. He will give you very detailed information about almost anything you will ever need to know during the stay.\\n\\nThe property is stunning and private. We all had great fun. Pictures can’t show how beautiful it is.\\n\\nP.S. the raccoons in the grass at night kinda scared my girlfriend but surely they were harmless.',\n",
       " 'This place is amazing! My friends and I we all love this place. Those pictures on Airbnb just can’t show how beautiful this place is! You have to see it with your own eyes. David is patient and hospitable, he answered all my questions and give me a lot of advice to make our stay more comfortable and unforgettable!',\n",
       " \"We're only a couple of hours removed from staying at Michabo, and miss the place already! Michabo really is one of the most beautiful, private locations you could ever imagine. Dave is an exemplary Airbnb host, and goes out of his way to make sure his guests are taken care of. Have had some amazing times here already, and am looking forward to making some more memories the next time around. Thanks again!\",\n",
       " \"This was our third trip here and we are already looking forward to coming back next year. You can't beat this amazing spot. Beautiful property, amazing water, privacy and so peaceful. David is a great host who respects the great outdoors, always asks for ways that he can improve the experience for others. \\n\\nLots of extra space to pitch tents, lots of pots/pans in the kitchen, great grilling pit, heavenly sauna/shower. I would do anything to live here!\",\n",
       " \"Pictures absolutely don't do this place justice. The cabin is beautiful, rustic and spacious. Being on a private lake is such a treat, the water is gorgeous and calm and we took full advantage of the huge floating dock and the jumping rocks. David is an excellent communicator and a wonderful host. Folks in my group have come twice and we're definitely going to make this an annual thing- five stars!\",\n",
       " \"Perfect. Nothing better. We were blown away by this property, it is stunning and comfortable. I wouldn't change a thing. It's great to have total privacy in such a pristine environment. David was incredibly hospitable and a real gent. Thnaks!\",\n",
       " 'Quiet, picturesque and peaceful. A getaway from the city in every way! Off grid living at its most luxurious! Outdoor showers, saunas and an outhouse with a view. Our group of 9 had more than enough space and loved every minute of the experience. Dave is helpful and always a call away. ',\n",
       " \"This place is a treasure from the past totally, if you have parents or grandparents who talk about the good old days, then you must visit and stay. They don't tell you about the wonderful stars at night or wolf howls or bear poop in the back lane, but they also don't remember stinky outhouse or making a fire to last all night and  stay warm. Most of all they wont tell you about cooking a 22lb Turkey and Thanksgiving dinner the old fashioned way. \\r\\n\\r\\nIt's a must do. \\r\\n\\r\\nStayed here with my kids ages 24, 22, 20 and 4, perfect escape, with no electricity, but there is cell data service, so you do have the best of both worlds if you have a battery back-up.  \",\n",
       " 'We love Michabo! Thank you :)',\n",
       " 'David is a wonderful and attentive host who obviously cares about your experience on this unique property. This was our second trip to this cabin and we would do anything to stay here forever. This is paradise and an unbelievably serene experience. The lake is stunning and the cabin is quite spacious. Potentially my favorite place in Ontario. ',\n",
       " 'Wonderful cottage, fantastic scenery, beautiful lake for swimming and fishing! All round a brilliant place to stay! Very authentic Canadian feel to the place and Dave was an absolute gentleman helping us plan our trip! ',\n",
       " \"There was absolutely nothing that could have made this experience any better. the perfect getaway for anyone who just wants to get away from everything. The cabin was amazing, the surroundings were jaw dropping and our host david couldn't have been more accommodating, reiterating multiple times that we could call him at any time with any questions or concerns. We will be rebooking for multiple weekends for years to come. An absolute pleasure.\",\n",
       " \"David's property well exceeded expectations, pictures could never do this place justice. A truly secluded paradise for those who enjoy simplicity at the cottage. I will absolutely be back here with friends and family in the future! \",\n",
       " 'We had the most wonderful stay on Lake Michabo - relaxing and completely private, we were in heaven.  Great to be unplugged from the outside world, too.  Dave was one of the best hosts ever - so communicative and available 24-7, it really put our minds at ease and we enjoyed…Read more',\n",
       " \"This was our second time at David's cottage in West Guilford, and it was just as amazing as the first.\\r\\n\\r\\nThe biggest draw of this space for us was the total privacy, no one around to bother or be bothered by. Our group of 10 was more than comfortable inside the cottage with…Read more\",\n",
       " 'We had a wonderful stay at Michabo!! We stayed two nights and David was available by phone to answer any questions at any time. Not that there were too many questions, the cabin was well set up for our convenience. The lack of electricity actually made the stay that much more enjoyable - without electronics we were able to enjoy the beautiful private lake and land. The cabin and bunk house slept 10 very comfortably. We will definitely be contacting David for future visits.',\n",
       " \"We had an AMAZING LONG WEEKEND at Dave's cabin. The lake is completely private and the cabin is beautiful. The pictures don't do justice to how great the place really is. We spent the whole weekend swimming, sitting in the sauna and cooking great food on the fire pit. Ten adults were more than comfortable. The cabin provides just about everything you'd need including firewood, hot water and a propane fridge. For us this was the perfect mix of creature comforts and rustic living. Dave was very helpful and always available. He ensured we were completely comfortable with the operation of the property before leaving us to enjoy the lake. None of us wanted to leave and we will definitely be coming back. Perfect for families or friend groups.  \\r\\nIf you want to feel like Francis Mallmann in Patagonia, this place is for you. \",\n",
       " 'Dave was a wonderful host and the cottage was absolutely beautiful. We had a wonderful time and hope to visit again. The privacy here is great and the cottage is the perfect rustic cabin in the woods. ',\n",
       " 'Very good environment , nice place to stay.',\n",
       " 'David, The Host: he was very helpful and available, he gave us all info over the phone and made sure we are safe and sound \\r\\n\\r\\nThe Cabin: it was like walking into a museum, going back in time :) the place was clean and had plenty of room for 8 of us, we only used the main cabin as there was enough room for all of us\\r\\n\\r\\nThe Area: this place was beautiful and secluded, very quiet with magnificent view \\r\\n\\r\\nAdvise: If you like quiet and secluded place with private lake, i strongly recommend this place, just make sure you take your own water.\\r\\n\\r\\nOverall we enjoyed our time and had a blast',\n",
       " 'Have rented this place twice now.  Dave was an incredible host.  Very accommodating, and makes every effort to make sure everything is in order prior to arrival.  Accommodations are exactly as displayed.  Beautiful setting.  Would strongly recommend it to anyone looking for an off-grid getaway.',\n",
       " \"this is my 2nd tour @ David's property, 2.5hours away from city, very rugged and totally private. we had an unforgetable 3 days hunting/fishing trip for group of six, and we are planning come back at anytime next year\",\n",
       " \"Couldn't have been happier with this amazing spot. A perfect retreat from the the city. Dave was helpful and made himself readily available. The place has a rustic off-grid feel, yet provided our group of 10 all the comforts we needed. Our friends from Ireland were blown away. A great way to experience the best of what Canada has to offer. I will be back!\",\n",
       " \"This beautiful property is definitely undersold in the listing. The property itself is huge and was perfect for our stay, and the cottage and workshop comfortably fit 9 of us with plenty of extra room. The cottage used to be a research camp of sorts, and is filled with character. The view from the private lake was lovely, and the privacy offered us the opportunity to not worry about causing a disturbance or being disturbed. \\r\\n\\r\\nPerhaps most importantly, Dave made it clear he was available 24 hours a day, and didn't hesitate to help when we called him with a few queries. Our entire group has nothing but good things to say about Dave and his property, and we'll absolutely be back.\",\n",
       " 'We rented David\\'s Total Privacy Haliburton place and really liked it. David is an amazing host and is available 24/7 for any questions that you have. This is an amazing place to spend few days. \\r\\n\\r\\nWe also stayed at David\\'s \"Stay in Rugged Haliburton Highlands\" on the same trip - This place is heaven on earth. Beautiful quite area with private access to the lake. We really enjoyed our stay. I highly recommend David\\'s both places to anyone who wants have the best cottage experience of their lives. \\r\\n\\r\\nThe natural beauty of both places are breathtaking. The combination of best host (David) and the cottages equals to a memorable cottage experience.  Simply the best! ',\n",
       " 'The gals and I had a fabulous time at Michabo. It was exactly the kind of spot we were looking for - private, gorgeous, and surrounded by forest. The dock was wonderful for spending the day in the sun, the hills are nice and tough for jogging, the water clear and refreshing for swimming, the sauna is a great touch and the lake produced a nice bass for part of supper Saturday! We brought linens and water and were very happy with the kitchen - well equipped and large enough to allow for many helping hands. We also made great use of the grills by the fire pit, which were very handy. The rope swing across the lake gave a few of us a run for our money! David was helpful and informative, helping us figure out exactly how to make it a perfect stay. Definitely, definitely recommend this to anyone seeking a more rustic back to nature getaway.',\n",
       " \"This cottage is awesome!  Very rugged and totally private.  Beautiful little private lake with good fishing and lots of space to explore.  David was very helpful and available leading up to our vacation.  Loved the sauna and outdoor shower and tub especially.  We'll definitely be going back!\\r\\n\\r\\nThanks David :)\",\n",
       " \"Our stay at this private lake was wonderful! My large group and I love camping, so this property was a real treat - complete privacy, the entire lake to ourselves, space for everyone, and a fire pit. The cabin was even better than expected, with a fridge, stove-top, lanterns, and a wood stove. It's super cosy. Many among my group said the outdoor shower was the best they've ever had IN THEIR LIVES! The sauna, too, was the perfect way to warm up after a dip in the lake. We would definitely recommend it to anyone who is looking for privacy and a rustic experience. Everyone in my group is telling me they want to go back. \\r\\n\\r\\nDavid was a great person to get to know, very helpful, and available 24/7 if I had any questions. I have nothing bad to say. \\r\\n\\r\\nThe only thing I'd note is the dirt road to get to the cabin can be a bit treacherous, so I wouldn't recommend it to anyone with a very low car, and I wouldn't drive at night. Ultimately, we didn't have any trouble though. \",\n",
       " \"I can't recommend this place more. Dave was available anytime for any questions we had, and the cabin was the perfect balance of a rustic back-to-nature experience and a comfortable cottage stay. Warming up in the wood fire sauna, cooking on the firepit, and having a whole lake to yourself swimming as the sun comes up are experiences you simply won't have at a regular cottage. Getting away and being off the grid was something I definitely appreciated. I will for sure be heading back up there again!\",\n",
       " 'Dave was very quick to respond to us and was always available by phone whenever we needed any tips or help on working things in the cottage. He gave us some very helpful suggestions in preparation for our trip.\\r\\nWe loved the authenticity and privacy of the cottage. The decor, furniture, and overall estate had such unique old-school characters. A few of us also got to enjoy the sauna, which was perfect for a rainy day. The hiking trails were interestingly fun as well, and invited a sense of adventure.',\n",
       " \"Serene, peaceful, and total privacy. That's what we experienced while staying at Dave's property. A great host, he walked us through the entire process, and prepared ourselves with one of the best cottaging experience we've ever had. Your own private lake, a nice and cozy 4 bedroom cottage, nestled in a 450 acred wooded paradise. Fishing, hiking, to all your heart's content. It was just starting to get chilly at night, but the wood burning fireplace kept the place nice and inviting. Would definitely go back in a heart beat!\",\n",
       " \"Our long weekend at David's cottage on Michabo Lake was incredible. We loved the landscapes, the privacy and the rawness of the cottage/cabin experience. The sauna and the outdoor bathtubs are also highlights. David was really great to communicate with from the time of the booking to our stay. We will definitively be back!\\r\\n\",\n",
       " 'Michabo Lake was a paradise getaway -- it was very sad leaving it behind on our last day. The dock on the lake is like being at the bottom of your own private amphitheatre surrounded by the forested hills. The cottage has a unique rustic feel about it but is very intelligently designed and comfortable. Our weekend was exceptionally rainy, and so the sauna was another magical corner for hanging out. David was a great host -- really easy going and very helpful. Our group is definitely planning on coming back. Thanks David! ',\n",
       " \"my family had wonderful time before Canada's day long weekend, dave is extremely nice guy to dealing with, i've already shared my story with friends n  planning to come back soon.\",\n",
       " 'The place was excellent. It really was great privacy with exclusive use of the lake and trails near by. We had a lot of fun.\\n\\nDavid thought us the ins and outs of the cabin and sauna and was always available by phone if we had a question.\\n\\nI would throughly recommend staying here to anyone.\\n',\n",
       " 'David’s place is an incredible gem hidden away in the woods. The cabin was just what we all needed to escape our busy schedules and have an awesome guys weekend of fishing and shenanigans. If you appreciate historic amenities, like iron wood fire stoves and antique ice boxes, this place doubles as an awesome museum for Ontario history. The beds were quite comfortable and the cabin clean and tidy when we arrived. The sauna and outdoor tub added to the trip’s rustic luxury. Stay to the right on the little dirt road, and just when you think you’re lost, you’ll find yourself in a little forest oasis. Bring a rod, and hit the dock. Well worth the journey from Alaska.',\n",
       " 'This retreat was great. It was private, rustic and relaxing. The lake is much larger than I thought and the water was great to swim in. The cottage and cabins were exactly what we were looking for. Thanks David!',\n",
       " 'Outstanding, historical, relaxing.\\nIt’s hard to describe the beauties with words.\\nReally hope all visitors take good care of the place and keep it just the way it is.',\n",
       " 'Stayed here multiple times. A unique cabin, perfect for getting away from the city and the more overbuilt parts of cottage country. Good for groups!',\n",
       " \"This was our 3rd summer in a row staying at Dave's place, and it was as great as always. His property is amazing and we always wish we could stay longer, definitely going to be back next summer! \",\n",
       " 'This place is pretty special. \\r\\n\\r\\nThe accomodation is like a lake shore holiday antique movie set. Completely constructed from exposed timber with years of accumulated knick knacks , from enormous antique fireplaces and ovens to small trinkets and random old worldly fishing and…Read more',\n",
       " 'This was our second summer in a row staying at michabo and it was just as great as the first! We love the property and private lake, and the sauna is amazing. Definitely planning on going back- and would highly recommend to everyone! ',\n",
       " \"We came and stayed in the cottage during the last weekend of this September. This place has a nice view, especially the lake. You can see the beautiful sunrise and even stay all day at the lake. Also it is really fun to do barbecue near the house as that's a fire pit there.\\r\\nDave is really helpful and he can always answer the call. \\r\\nThank you, Dave! It was an enjoyable experience and I look forward to come again next time!\",\n",
       " \"We had an amazing 3 days at Dave's cottage! The private lake was beautiful and the perfect size, and we loved the diving rock/rope swing on the other side of the lake. The cabin was the perfect size for 10 of us all, very cozy and comfortable. The Sauna was also amazing along with the fire pit to keep us entertained and warm at night. Would definitely come back anytime.\",\n",
       " 'David was very helpful in everyday possible. He made us feel very welcome and we were so lucky to experience and stay at his beautiful property. We were in a group of 10 and spent the entire weekend at his property, with our own private lake, sauna and walking trails to explore. It was a great escape from the city. Will definitely recommend this place and David as a host to any fellow traveller. ',\n",
       " 'David\\'s place is absolutely amazing! I would definitely recommend it to any group hoping to get out into the \"wilderness\" and take a break from the city-scape. Me and a group of 9 others went out to this home for a weekend away and really enjoyed swimming in the (private) lake, stoking fires (indoor and outdoor) and generally taking a break from technology in a very quaint and very removed setting. \\r\\nThank you so much David!']"
      ]
     },
     "execution_count": 131,
     "metadata": {},
     "output_type": "execute_result"
    }
   ],
   "source": [
    "final = []\n",
    "for review in table: \n",
    "    if review not in final: \n",
    "        final.append(review)\n",
    "final"
   ]
  },
  {
   "cell_type": "code",
   "execution_count": 132,
   "metadata": {},
   "outputs": [
    {
     "data": {
      "text/plain": [
       "61"
      ]
     },
     "execution_count": 132,
     "metadata": {},
     "output_type": "execute_result"
    }
   ],
   "source": [
    "len(final)"
   ]
  },
  {
   "cell_type": "code",
   "execution_count": 133,
   "metadata": {},
   "outputs": [
    {
     "data": {
      "text/plain": [
       "'[\"Incredibly unique and beautiful spot. There is no other property like it. It\\'s very private and ideal for a modest outdoorsman. There are more than enough touches to make it a comfortable stay. The lake and sauna are very relaxing and should definitely be enjoyed. The cabin is very well equipped and comes with chopped firewood so the stay can be easy. Dave was a great host and a phone call away to answer our questions. Will definitely consider returning!!\", \"This cottage offers a rare opportunity it experience Canadian beauty without intrusion from the outside world. Clean and comfortable an all round amazing trip.\", \"Our stay at Michabo lake was fantastic. The cabin and bunkie were tidy, the beds were comfortable, and the lake was great for swimming and fishing. It was very private. We had plenty of cooking amenities, and the hot water from the sauna was great for showers and doing dishes. All in all a very relaxing weekend at the lake.\", \"This is an OUTSTANDING place! It is extremely rare that you can find such a secluded place with all lake just for you. The cottage actually has everything that you need, it accomdates 10 people comfortably, and everything is in good condition. The shower is outside the sauna, but really the water in the lake is so warm, that we never used that shower. The forest around the cottage is amazing and full of life. I would highly recommend this place to anyone. Also, please take into account that you need to have enough space in your trunk to pick up your garbage (the nearest landfill is the West Guilford Landfill site), don\\'t repeat our mistake. This is an extraordinary getaway for people who want to retreat from busy city life.\", \"I stayed at David\\'s cottage for a family getaway this summer. The whole experience was amazing. David made sure that we knew everything about the property ahead of time and the place was in perfect condition when we arrived. It was the perfect isolated getaway that we were looking for. The lake was nice and warm for swimming and with lots of seating both at the water and around the fire pit there was always somewhere to relax and enjoy nature. We didn\\'t get to use the sauna this time around, but it looked great and we will be sure to next time. There were enough beds for everyone (all nice and clean) so no one had to sleep on a couch. The fire pit had grills for cooking, so we were able to stay outside all weekend, not getting cooped up in the cottage. I would absolutely recommend this property to anyone looking for a nice getaway from the busy world. I will 100% be returning to David\\'s cottage.\", \"David\\\\u2019s place is truly an amazing experience. The notion of \\\\u201cprivate lake\\\\u201d is not an understatement. I visited the cottage with 9 other friends and it was beyond all of our expectations. If you do not need a phone for a weekend this is truly the place to stay. Authentic cottage, separate bunky cabin, sauna, outdoor shower... 10/10 stay, would book again. David is also an amazing host and instantly helped us out of a jam when our car would not start on the way out... not even that hiccup could ruin the experience.\", \"Charming, rustic spot with a beautiful private lake! Dave\\'s place is very basic but it\\'s what makes it charming. A great escape from the city!\", \"Bushman\\\\r\\\\n\", \"By phone 24/7\\\\nMost guests will enjoy the unique chance to be on their own , but any level of hosting can be negotiated. I might show up for check in and out depending on which way the wind is blowing me on those days.\", \"The pictures of this place don\\\\u2019t do it justice. As soon as we arrived it was clear we were in for a great weekend.\", \"an amazing private retreat for a group,beautiful lake all to yourselves, a rustic, but perfectly maintained main cottage with cool, little bunkie.Sauna was an excellent addition as it heated water for the cabin as well as a outdoor shower, the dock out on the lake was a perfect spot to relax and the fire pit was handy for its nice size grill, good spot\", \"Great location would come back anytime\", \"David\\'s cottage is absolutely amazing! David answered all our questions and concerns quickly and helped whenever we had questions during our stay. The lake and view is worth every pennie! The cottage itself is beautiful and has alot of amenities such as the sauna and hot water system. 100% will be booking again soon.\", \"This cottage is something out of the past. You get to have your peace and quiet away from the crazy city life and just be in tune with nature. My cell battery lasted me the whole long weekend there and it usually doesn\\\\u2019t last me half a day. It feels good to be away from those kind of distractions and have a breath of fresh air with a view of a private lake and Be surrounded by trees. The view of the sky at night is breathtaking with no city lights around and the lake was much nicer than we had thought. \", \"This was a great experience. Our group enjoyed the seclusion of the cabin and private lake.\\\\n\\\\nI recommend bringing a canoe. We spent most of our time in ours out on the water fishing or swimming. \\\\n\\\\nWe did all of our cooking on the fire pit. I recommend bringing charcoals.\\\\n\\\\nDavid was a great host and was available 24/7.\\\\n\\\\nI would definitely return for another stay.\", \"Best Airbnb experience ever! David is super nice and patient. He will give you very detailed information about almost anything you will ever need to know during the stay.\\\\n\\\\nThe property is stunning and private. We all had great fun. Pictures can\\\\u2019t show how beautiful it is.\\\\n\\\\nP.S. the raccoons in the grass at night kinda scared my girlfriend but surely they were harmless.\", \"This place is amazing! My friends and I we all love this place. Those pictures on Airbnb just can\\\\u2019t show how beautiful this place is! You have to see it with your own eyes. David is patient and hospitable, he answered all my questions and give me a lot of advice to make our stay more comfortable and unforgettable!\", \"We\\'re only a couple of hours removed from staying at Michabo, and miss the place already! Michabo really is one of the most beautiful, private locations you could ever imagine. Dave is an exemplary Airbnb host, and goes out of his way to make sure his guests are taken care of. Have had some amazing times here already, and am looking forward to making some more memories the next time around. Thanks again!\", \"This was our third trip here and we are already looking forward to coming back next year. You can\\'t beat this amazing spot. Beautiful property, amazing water, privacy and so peaceful. David is a great host who respects the great outdoors, always asks for ways that he can improve the experience for others. \\\\n\\\\nLots of extra space to pitch tents, lots of pots/pans in the kitchen, great grilling pit, heavenly sauna/shower. I would do anything to live here!\", \"Pictures absolutely don\\'t do this place justice. The cabin is beautiful, rustic and spacious. Being on a private lake is such a treat, the water is gorgeous and calm and we took full advantage of the huge floating dock and the jumping rocks. David is an excellent communicator and a wonderful host. Folks in my group have come twice and we\\'re definitely going to make this an annual thing- five stars!\", \"Perfect. Nothing better. We were blown away by this property, it is stunning and comfortable. I wouldn\\'t change a thing. It\\'s great to have total privacy in such a pristine environment. David was incredibly hospitable and a real gent. Thnaks!\", \"Quiet, picturesque and peaceful. A getaway from the city in every way! Off grid living at its most luxurious! Outdoor showers, saunas and an outhouse with a view. Our group of 9 had more than enough space and loved every minute of the experience. Dave is helpful and always a call away. \", \"This place is a treasure from the past totally, if you have parents or grandparents who talk about the good old days, then you must visit and stay. They don\\'t tell you about the wonderful stars at night or wolf howls or bear poop in the back lane, but they also don\\'t remember stinky outhouse or making a fire to last all night and  stay warm. Most of all they wont tell you about cooking a 22lb Turkey and Thanksgiving dinner the old fashioned way. \\\\r\\\\n\\\\r\\\\nIt\\'s a must do. \\\\r\\\\n\\\\r\\\\nStayed here with my kids ages 24, 22, 20 and 4, perfect escape, with no electricity, but there is cell data service, so you do have the best of both worlds if you have a battery back-up.  \", \"We love Michabo! Thank you :)\", \"David is a wonderful and attentive host who obviously cares about your experience on this unique property. This was our second trip to this cabin and we would do anything to stay here forever. This is paradise and an unbelievably serene experience. The lake is stunning and the cabin is quite spacious. Potentially my favorite place in Ontario. \", \"Wonderful cottage, fantastic scenery, beautiful lake for swimming and fishing! All round a brilliant place to stay! Very authentic Canadian feel to the place and Dave was an absolute gentleman helping us plan our trip! \", \"There was absolutely nothing that could have made this experience any better. the perfect getaway for anyone who just wants to get away from everything. The cabin was amazing, the surroundings were jaw dropping and our host david couldn\\'t have been more accommodating, reiterating multiple times that we could call him at any time with any questions or concerns. We will be rebooking for multiple weekends for years to come. An absolute pleasure.\", \"David\\'s property well exceeded expectations, pictures could never do this place justice. A truly secluded paradise for those who enjoy simplicity at the cottage. I will absolutely be back here with friends and family in the future! \", \"We had the most wonderful stay on Lake Michabo - relaxing and completely private, we were in heaven.  Great to be unplugged from the outside world, too.  Dave was one of the best hosts ever - so communicative and available 24-7, it really put our minds at ease and we enjoyed\\\\u2026Read more\", \"This was our second time at David\\'s cottage in West Guilford, and it was just as amazing as the first.\\\\r\\\\n\\\\r\\\\nThe biggest draw of this space for us was the total privacy, no one around to bother or be bothered by. Our group of 10 was more than comfortable inside the cottage with\\\\u2026Read more\", \"We had a wonderful stay at Michabo!! We stayed two nights and David was available by phone to answer any questions at any time. Not that there were too many questions, the cabin was well set up for our convenience. The lack of electricity actually made the stay that much more enjoyable - without electronics we were able to enjoy the beautiful private lake and land. The cabin and bunk house slept 10 very comfortably. We will definitely be contacting David for future visits.\", \"We had an AMAZING LONG WEEKEND at Dave\\'s cabin. The lake is completely private and the cabin is beautiful. The pictures don\\'t do justice to how great the place really is. We spent the whole weekend swimming, sitting in the sauna and cooking great food on the fire pit. Ten adults were more than comfortable. The cabin provides just about everything you\\'d need including firewood, hot water and a propane fridge. For us this was the perfect mix of creature comforts and rustic living. Dave was very helpful and always available. He ensured we were completely comfortable with the operation of the property before leaving us to enjoy the lake. None of us wanted to leave and we will definitely be coming back. Perfect for families or friend groups.  \\\\r\\\\nIf you want to feel like Francis Mallmann in Patagonia, this place is for you. \", \"Dave was a wonderful host and the cottage was absolutely beautiful. We had a wonderful time and hope to visit again. The privacy here is great and the cottage is the perfect rustic cabin in the woods. \", \"Very good environment , nice place to stay.\", \"David, The Host: he was very helpful and available, he gave us all info over the phone and made sure we are safe and sound \\\\r\\\\n\\\\r\\\\nThe Cabin: it was like walking into a museum, going back in time :) the place was clean and had plenty of room for 8 of us, we only used the main cabin as there was enough room for all of us\\\\r\\\\n\\\\r\\\\nThe Area: this place was beautiful and secluded, very quiet with magnificent view \\\\r\\\\n\\\\r\\\\nAdvise: If you like quiet and secluded place with private lake, i strongly recommend this place, just make sure you take your own water.\\\\r\\\\n\\\\r\\\\nOverall we enjoyed our time and had a blast\", \"Have rented this place twice now.  Dave was an incredible host.  Very accommodating, and makes every effort to make sure everything is in order prior to arrival.  Accommodations are exactly as displayed.  Beautiful setting.  Would strongly recommend it to anyone looking for an off-grid getaway.\", \"this is my 2nd tour @ David\\'s property, 2.5hours away from city, very rugged and totally private. we had an unforgetable 3 days hunting/fishing trip for group of six, and we are planning come back at anytime next year\", \"Couldn\\'t have been happier with this amazing spot. A perfect retreat from the the city. Dave was helpful and made himself readily available. The place has a rustic off-grid feel, yet provided our group of 10 all the comforts we needed. Our friends from Ireland were blown away. A great way to experience the best of what Canada has to offer. I will be back!\", \"This beautiful property is definitely undersold in the listing. The property itself is huge and was perfect for our stay, and the cottage and workshop comfortably fit 9 of us with plenty of extra room. The cottage used to be a research camp of sorts, and is filled with character. The view from the private lake was lovely, and the privacy offered us the opportunity to not worry about causing a disturbance or being disturbed. \\\\r\\\\n\\\\r\\\\nPerhaps most importantly, Dave made it clear he was available 24 hours a day, and didn\\'t hesitate to help when we called him with a few queries. Our entire group has nothing but good things to say about Dave and his property, and we\\'ll absolutely be back.\", \"We rented David\\'s Total Privacy Haliburton place and really liked it. David is an amazing host and is available 24/7 for any questions that you have. This is an amazing place to spend few days. \\\\r\\\\n\\\\r\\\\nWe also stayed at David\\'s \\\\\"Stay in Rugged Haliburton Highlands\\\\\" on the same trip - This place is heaven on earth. Beautiful quite area with private access to the lake. We really enjoyed our stay. I highly recommend David\\'s both places to anyone who wants have the best cottage experience of their lives. \\\\r\\\\n\\\\r\\\\nThe natural beauty of both places are breathtaking. The combination of best host (David) and the cottages equals to a memorable cottage experience.  Simply the best! \", \"The gals and I had a fabulous time at Michabo. It was exactly the kind of spot we were looking for - private, gorgeous, and surrounded by forest. The dock was wonderful for spending the day in the sun, the hills are nice and tough for jogging, the water clear and refreshing for swimming, the sauna is a great touch and the lake produced a nice bass for part of supper Saturday! We brought linens and water and were very happy with the kitchen - well equipped and large enough to allow for many helping hands. We also made great use of the grills by the fire pit, which were very handy. The rope swing across the lake gave a few of us a run for our money! David was helpful and informative, helping us figure out exactly how to make it a perfect stay. Definitely, definitely recommend this to anyone seeking a more rustic back to nature getaway.\", \"This cottage is awesome!  Very rugged and totally private.  Beautiful little private lake with good fishing and lots of space to explore.  David was very helpful and available leading up to our vacation.  Loved the sauna and outdoor shower and tub especially.  We\\'ll definitely be going back!\\\\r\\\\n\\\\r\\\\nThanks David :)\", \"Our stay at this private lake was wonderful! My large group and I love camping, so this property was a real treat - complete privacy, the entire lake to ourselves, space for everyone, and a fire pit. The cabin was even better than expected, with a fridge, stove-top, lanterns, and a wood stove. It\\'s super cosy. Many among my group said the outdoor shower was the best they\\'ve ever had IN THEIR LIVES! The sauna, too, was the perfect way to warm up after a dip in the lake. We would definitely recommend it to anyone who is looking for privacy and a rustic experience. Everyone in my group is telling me they want to go back. \\\\r\\\\n\\\\r\\\\nDavid was a great person to get to know, very helpful, and available 24/7 if I had any questions. I have nothing bad to say. \\\\r\\\\n\\\\r\\\\nThe only thing I\\'d note is the dirt road to get to the cabin can be a bit treacherous, so I wouldn\\'t recommend it to anyone with a very low car, and I wouldn\\'t drive at night. Ultimately, we didn\\'t have any trouble though. \", \"I can\\'t recommend this place more. Dave was available anytime for any questions we had, and the cabin was the perfect balance of a rustic back-to-nature experience and a comfortable cottage stay. Warming up in the wood fire sauna, cooking on the firepit, and having a whole lake to yourself swimming as the sun comes up are experiences you simply won\\'t have at a regular cottage. Getting away and being off the grid was something I definitely appreciated. I will for sure be heading back up there again!\", \"Dave was very quick to respond to us and was always available by phone whenever we needed any tips or help on working things in the cottage. He gave us some very helpful suggestions in preparation for our trip.\\\\r\\\\nWe loved the authenticity and privacy of the cottage. The decor, furniture, and overall estate had such unique old-school characters. A few of us also got to enjoy the sauna, which was perfect for a rainy day. The hiking trails were interestingly fun as well, and invited a sense of adventure.\", \"Serene, peaceful, and total privacy. That\\'s what we experienced while staying at Dave\\'s property. A great host, he walked us through the entire process, and prepared ourselves with one of the best cottaging experience we\\'ve ever had. Your own private lake, a nice and cozy 4 bedroom cottage, nestled in a 450 acred wooded paradise. Fishing, hiking, to all your heart\\'s content. It was just starting to get chilly at night, but the wood burning fireplace kept the place nice and inviting. Would definitely go back in a heart beat!\", \"Our long weekend at David\\'s cottage on Michabo Lake was incredible. We loved the landscapes, the privacy and the rawness of the cottage/cabin experience. The sauna and the outdoor bathtubs are also highlights. David was really great to communicate with from the time of the booking to our stay. We will definitively be back!\\\\r\\\\n\", \"Michabo Lake was a paradise getaway -- it was very sad leaving it behind on our last day. The dock on the lake is like being at the bottom of your own private amphitheatre surrounded by the forested hills. The cottage has a unique rustic feel about it but is very intelligently designed and comfortable. Our weekend was exceptionally rainy, and so the sauna was another magical corner for hanging out. David was a great host -- really easy going and very helpful. Our group is definitely planning on coming back. Thanks David! \", \"my family had wonderful time before Canada\\'s day long weekend, dave is extremely nice guy to dealing with, i\\'ve already shared my story with friends n  planning to come back soon.\", \"The place was excellent. It really was great privacy with exclusive use of the lake and trails near by. We had a lot of fun.\\\\n\\\\nDavid thought us the ins and outs of the cabin and sauna and was always available by phone if we had a question.\\\\n\\\\nI would throughly recommend staying here to anyone.\\\\n\", \"David\\\\u2019s place is an incredible gem hidden away in the woods. The cabin was just what we all needed to escape our busy schedules and have an awesome guys weekend of fishing and shenanigans. If you appreciate historic amenities, like iron wood fire stoves and antique ice boxes, this place doubles as an awesome museum for Ontario history. The beds were quite comfortable and the cabin clean and tidy when we arrived. The sauna and outdoor tub added to the trip\\\\u2019s rustic luxury. Stay to the right on the little dirt road, and just when you think you\\\\u2019re lost, you\\\\u2019ll find yourself in a little forest oasis. Bring a rod, and hit the dock. Well worth the journey from Alaska.\", \"This retreat was great. It was private, rustic and relaxing. The lake is much larger than I thought and the water was great to swim in. The cottage and cabins were exactly what we were looking for. Thanks David!\", \"Outstanding, historical, relaxing.\\\\nIt\\\\u2019s hard to describe the beauties with words.\\\\nReally hope all visitors take good care of the place and keep it just the way it is.\", \"Stayed here multiple times. A unique cabin, perfect for getting away from the city and the more overbuilt parts of cottage country. Good for groups!\", \"This was our 3rd summer in a row staying at Dave\\'s place, and it was as great as always. His property is amazing and we always wish we could stay longer, definitely going to be back next summer! \", \"This place is pretty special. \\\\r\\\\n\\\\r\\\\nThe accomodation is like a lake shore holiday antique movie set. Completely constructed from exposed timber with years of accumulated knick knacks , from enormous antique fireplaces and ovens to small trinkets and random old worldly fishing and\\\\u2026Read more\", \"This was our second summer in a row staying at michabo and it was just as great as the first! We love the property and private lake, and the sauna is amazing. Definitely planning on going back- and would highly recommend to everyone! \", \"We came and stayed in the cottage during the last weekend of this September. This place has a nice view, especially the lake. You can see the beautiful sunrise and even stay all day at the lake. Also it is really fun to do barbecue near the house as that\\'s a fire pit there.\\\\r\\\\nDave is really helpful and he can always answer the call. \\\\r\\\\nThank you, Dave! It was an enjoyable experience and I look forward to come again next time!\", \"We had an amazing 3 days at Dave\\'s cottage! The private lake was beautiful and the perfect size, and we loved the diving rock/rope swing on the other side of the lake. The cabin was the perfect size for 10 of us all, very cozy and comfortable. The Sauna was also amazing along with the fire pit to keep us entertained and warm at night. Would definitely come back anytime.\", \"David was very helpful in everyday possible. He made us feel very welcome and we were so lucky to experience and stay at his beautiful property. We were in a group of 10 and spent the entire weekend at his property, with our own private lake, sauna and walking trails to explore. It was a great escape from the city. Will definitely recommend this place and David as a host to any fellow traveller. \", \"David\\'s place is absolutely amazing! I would definitely recommend it to any group hoping to get out into the \\\\\"wilderness\\\\\" and take a break from the city-scape. Me and a group of 9 others went out to this home for a weekend away and really enjoyed swimming in the (private) lake, stoking fires (indoor and outdoor) and generally taking a break from technology in a very quaint and very removed setting. \\\\r\\\\nThank you so much David!\"]'"
      ]
     },
     "execution_count": 133,
     "metadata": {},
     "output_type": "execute_result"
    }
   ],
   "source": [
    "import json\n",
    "my_json_string = json.dumps(final)\n",
    "my_json_string"
   ]
  },
  {
   "cell_type": "markdown",
   "metadata": {},
   "source": [
    "# Overcoming Read Me"
   ]
  },
  {
   "cell_type": "code",
   "execution_count": 110,
   "metadata": {},
   "outputs": [],
   "source": [
    "import random\n",
    "flag = False\n",
    "buttons = driver.find_elements_by_class_name('_b0ybw8s')\n",
    "for button in buttons: \n",
    "    #sleep(random.randint(1,9))\n",
    "    if (not flag): \n",
    "        if (button.text == 'Read more'): #this is the first read more (1)\n",
    "            flag = True\n",
    "            sleep(random.randint(10,15))\n",
    "            print(button.text)\n",
    "            button.click()\n",
    "            print('Starting Clicks')\n",
    "    else: #we have started clicking read more\n",
    "        if (button.text != 'Read more'): #there are no more read more (3)\n",
    "            print('End Clicks')\n",
    "            break\n",
    "        else: #iterating through the read more (2)\n",
    "            sleep(random.randint(10,15))\n",
    "            button.click()\n",
    "            print(button.text)\n",
    "            print('Clicked')"
   ]
  },
  {
   "cell_type": "markdown",
   "metadata": {},
   "source": [
    "# Converting Output list into DataFrame"
   ]
  },
  {
   "cell_type": "code",
   "execution_count": 136,
   "metadata": {},
   "outputs": [
    {
     "data": {
      "text/html": [
       "<div>\n",
       "<style scoped>\n",
       "    .dataframe tbody tr th:only-of-type {\n",
       "        vertical-align: middle;\n",
       "    }\n",
       "\n",
       "    .dataframe tbody tr th {\n",
       "        vertical-align: top;\n",
       "    }\n",
       "\n",
       "    .dataframe thead th {\n",
       "        text-align: right;\n",
       "    }\n",
       "</style>\n",
       "<table border=\"1\" class=\"dataframe\">\n",
       "  <thead>\n",
       "    <tr style=\"text-align: right;\">\n",
       "      <th></th>\n",
       "      <th>Reviews</th>\n",
       "    </tr>\n",
       "  </thead>\n",
       "  <tbody>\n",
       "    <tr>\n",
       "      <th>0</th>\n",
       "      <td>Incredibly unique and beautiful spot. There is...</td>\n",
       "    </tr>\n",
       "    <tr>\n",
       "      <th>1</th>\n",
       "      <td>This cottage offers a rare opportunity it expe...</td>\n",
       "    </tr>\n",
       "    <tr>\n",
       "      <th>2</th>\n",
       "      <td>Our stay at Michabo lake was fantastic. The ca...</td>\n",
       "    </tr>\n",
       "    <tr>\n",
       "      <th>3</th>\n",
       "      <td>This is an OUTSTANDING place! It is extremely ...</td>\n",
       "    </tr>\n",
       "    <tr>\n",
       "      <th>4</th>\n",
       "      <td>I stayed at David's cottage for a family getaw...</td>\n",
       "    </tr>\n",
       "  </tbody>\n",
       "</table>\n",
       "</div>"
      ],
      "text/plain": [
       "                                             Reviews\n",
       "0  Incredibly unique and beautiful spot. There is...\n",
       "1  This cottage offers a rare opportunity it expe...\n",
       "2  Our stay at Michabo lake was fantastic. The ca...\n",
       "3  This is an OUTSTANDING place! It is extremely ...\n",
       "4  I stayed at David's cottage for a family getaw..."
      ]
     },
     "execution_count": 136,
     "metadata": {},
     "output_type": "execute_result"
    }
   ],
   "source": [
    "data = pd.DataFrame(final, columns = ['Reviews'])\n",
    "data.head()"
   ]
  },
  {
   "cell_type": "code",
   "execution_count": 137,
   "metadata": {},
   "outputs": [
    {
     "data": {
      "text/html": [
       "<div>\n",
       "<style scoped>\n",
       "    .dataframe tbody tr th:only-of-type {\n",
       "        vertical-align: middle;\n",
       "    }\n",
       "\n",
       "    .dataframe tbody tr th {\n",
       "        vertical-align: top;\n",
       "    }\n",
       "\n",
       "    .dataframe thead th {\n",
       "        text-align: right;\n",
       "    }\n",
       "</style>\n",
       "<table border=\"1\" class=\"dataframe\">\n",
       "  <thead>\n",
       "    <tr style=\"text-align: right;\">\n",
       "      <th></th>\n",
       "      <th>Reviews</th>\n",
       "      <th>Word Count</th>\n",
       "    </tr>\n",
       "  </thead>\n",
       "  <tbody>\n",
       "    <tr>\n",
       "      <th>0</th>\n",
       "      <td>Incredibly unique and beautiful spot. There is...</td>\n",
       "      <td>80</td>\n",
       "    </tr>\n",
       "    <tr>\n",
       "      <th>1</th>\n",
       "      <td>This cottage offers a rare opportunity it expe...</td>\n",
       "      <td>24</td>\n",
       "    </tr>\n",
       "    <tr>\n",
       "      <th>2</th>\n",
       "      <td>Our stay at Michabo lake was fantastic. The ca...</td>\n",
       "      <td>60</td>\n",
       "    </tr>\n",
       "    <tr>\n",
       "      <th>3</th>\n",
       "      <td>This is an OUTSTANDING place! It is extremely ...</td>\n",
       "      <td>131</td>\n",
       "    </tr>\n",
       "    <tr>\n",
       "      <th>4</th>\n",
       "      <td>I stayed at David's cottage for a family getaw...</td>\n",
       "      <td>170</td>\n",
       "    </tr>\n",
       "  </tbody>\n",
       "</table>\n",
       "</div>"
      ],
      "text/plain": [
       "                                             Reviews  Word Count\n",
       "0  Incredibly unique and beautiful spot. There is...          80\n",
       "1  This cottage offers a rare opportunity it expe...          24\n",
       "2  Our stay at Michabo lake was fantastic. The ca...          60\n",
       "3  This is an OUTSTANDING place! It is extremely ...         131\n",
       "4  I stayed at David's cottage for a family getaw...         170"
      ]
     },
     "execution_count": 137,
     "metadata": {},
     "output_type": "execute_result"
    }
   ],
   "source": [
    "data['Word Count'] = data['Reviews'].apply(lambda x: len(x.split(' ')))\n",
    "data.head()"
   ]
  },
  {
   "cell_type": "code",
   "execution_count": 141,
   "metadata": {},
   "outputs": [
    {
     "data": {
      "text/html": [
       "<div>\n",
       "<style scoped>\n",
       "    .dataframe tbody tr th:only-of-type {\n",
       "        vertical-align: middle;\n",
       "    }\n",
       "\n",
       "    .dataframe tbody tr th {\n",
       "        vertical-align: top;\n",
       "    }\n",
       "\n",
       "    .dataframe thead th {\n",
       "        text-align: right;\n",
       "    }\n",
       "</style>\n",
       "<table border=\"1\" class=\"dataframe\">\n",
       "  <thead>\n",
       "    <tr style=\"text-align: right;\">\n",
       "      <th></th>\n",
       "      <th>Reviews</th>\n",
       "      <th>Word Count</th>\n",
       "      <th>Sentence Count</th>\n",
       "    </tr>\n",
       "  </thead>\n",
       "  <tbody>\n",
       "    <tr>\n",
       "      <th>0</th>\n",
       "      <td>Incredibly unique and beautiful spot. There is...</td>\n",
       "      <td>80</td>\n",
       "      <td>9</td>\n",
       "    </tr>\n",
       "    <tr>\n",
       "      <th>1</th>\n",
       "      <td>This cottage offers a rare opportunity it expe...</td>\n",
       "      <td>24</td>\n",
       "      <td>3</td>\n",
       "    </tr>\n",
       "    <tr>\n",
       "      <th>2</th>\n",
       "      <td>Our stay at Michabo lake was fantastic. The ca...</td>\n",
       "      <td>60</td>\n",
       "      <td>6</td>\n",
       "    </tr>\n",
       "    <tr>\n",
       "      <th>3</th>\n",
       "      <td>This is an OUTSTANDING place! It is extremely ...</td>\n",
       "      <td>131</td>\n",
       "      <td>8</td>\n",
       "    </tr>\n",
       "    <tr>\n",
       "      <th>4</th>\n",
       "      <td>I stayed at David's cottage for a family getaw...</td>\n",
       "      <td>170</td>\n",
       "      <td>11</td>\n",
       "    </tr>\n",
       "  </tbody>\n",
       "</table>\n",
       "</div>"
      ],
      "text/plain": [
       "                                             Reviews  Word Count  \\\n",
       "0  Incredibly unique and beautiful spot. There is...          80   \n",
       "1  This cottage offers a rare opportunity it expe...          24   \n",
       "2  Our stay at Michabo lake was fantastic. The ca...          60   \n",
       "3  This is an OUTSTANDING place! It is extremely ...         131   \n",
       "4  I stayed at David's cottage for a family getaw...         170   \n",
       "\n",
       "   Sentence Count  \n",
       "0               9  \n",
       "1               3  \n",
       "2               6  \n",
       "3               8  \n",
       "4              11  "
      ]
     },
     "execution_count": 141,
     "metadata": {},
     "output_type": "execute_result"
    }
   ],
   "source": [
    "data['Sentence Count'] = data['Reviews'].apply(lambda x: len(x.split('. ')) + 1)\n",
    "data.head()"
   ]
  },
  {
   "cell_type": "markdown",
   "metadata": {},
   "source": [
    "# Identifying Top Common and Uncommon Words"
   ]
  },
  {
   "cell_type": "code",
   "execution_count": 145,
   "metadata": {},
   "outputs": [
    {
     "data": {
      "text/plain": [
       "<matplotlib.axes._subplots.AxesSubplot at 0x222aafec3c8>"
      ]
     },
     "execution_count": 145,
     "metadata": {},
     "output_type": "execute_result"
    },
    {
     "data": {
      "image/png": "[encoded data removed]",
      "text/plain": [
       "<Figure size 432x288 with 1 Axes>"
      ]
     },
     "metadata": {},
     "output_type": "display_data"
    }
   ],
   "source": [
    "top_common = pd.Series(' '.join(data['Reviews']).split()).value_counts()[:40]\n",
    "top_common.plot(kind = 'bar')"
   ]
  },
  {
   "cell_type": "code",
   "execution_count": 148,
   "metadata": {},
   "outputs": [
    {
     "data": {
      "text/plain": [
       "supper          1\n",
       "Perfect         1\n",
       "filled          1\n",
       "great.          1\n",
       "separate        1\n",
       "provided        1\n",
       "michabo         1\n",
       "view.           1\n",
       "Warming         1\n",
       "heart           1\n",
       "doesn’t         1\n",
       "imagine.        1\n",
       "Perhaps         1\n",
       "bunkie.Sauna    1\n",
       "tidy            1\n",
       "expected,       1\n",
       "doubles         1\n",
       "world,          1\n",
       "beat            1\n",
       "fridge.         1\n",
       "dtype: int64"
      ]
     },
     "execution_count": 148,
     "metadata": {},
     "output_type": "execute_result"
    }
   ],
   "source": [
    "top_uncommon =  pd.Series(' '.join(data['Reviews']).split()).value_counts()[-20:]\n",
    "top_uncommon"
   ]
  },
  {
   "cell_type": "code",
   "execution_count": 149,
   "metadata": {},
   "outputs": [
    {
     "name": "stdout",
     "output_type": "stream",
     "text": [
      "[nltk_data] Downloading package stopwords to\n",
      "[nltk_data]     C:\\Users\\mindy\\AppData\\Roaming\\nltk_data...\n",
      "[nltk_data]   Unzipping corpora\\stopwords.zip.\n",
      "[nltk_data] Downloading package wordnet to\n",
      "[nltk_data]     C:\\Users\\mindy\\AppData\\Roaming\\nltk_data...\n",
      "[nltk_data]   Unzipping corpora\\wordnet.zip.\n"
     ]
    }
   ],
   "source": [
    "import re\n",
    "import nltk\n",
    "nltk.download('stopwords')\n",
    "from nltk.corpus import stopwords\n",
    "from nltk.stem.porter import PorterStemmer\n",
    "from nltk.tokenize import RegexpTokenizer\n",
    "nltk.download('wordnet') \n",
    "from nltk.stem.wordnet import WordNetLemmatizer"
   ]
  },
  {
   "cell_type": "markdown",
   "metadata": {},
   "source": [
    "# Removing Stop Words"
   ]
  },
  {
   "cell_type": "markdown",
   "metadata": {},
   "source": [
    "Stop words are not keywords."
   ]
  },
  {
   "cell_type": "code",
   "execution_count": 162,
   "metadata": {},
   "outputs": [
    {
     "data": {
      "text/plain": [
       "array(['incredibly unique and beautiful spot there is no other property like it it s very private and ideal for a modest outdoorsman there are more than enough touches to make it a comfortable stay the lake and sauna are very relaxing and should definitely be enjoyed the cabin is very well equipped and comes with chopped firewood so the stay can be easy dave was a great host and a phone call away to answer our questions will definitely consider returning ',\n",
       "       'this cottage offers a rare opportunity it experience canadian beauty without intrusion from the outside world clean and comfortable an all round amazing trip ',\n",
       "       'our stay at michabo lake was fantastic the cabin and bunkie were tidy the beds were comfortable and the lake was great for swimming and fishing it was very private we had plenty of cooking amenities and the hot water from the sauna was great for showers and doing dishes all in all a very relaxing weekend at the lake ',\n",
       "       'this is an outstanding place it is extremely rare that you can find such a secluded place with all lake just for you the cottage actually has everything that you need it accomdates people comfortably and everything is in good condition the shower is outside the sauna but really the water in the lake is so warm that we never used that shower the forest around the cottage is amazing and full of life i would highly recommend this place to anyone also please take into account that you need to have enough space in your trunk to pick up your garbage the nearest landfill is the west guilford landfill site don t repeat our mistake this is an extraordinary getaway for people who want to retreat from busy city life ',\n",
       "       'i stayed at david s cottage for a family getaway this summer the whole experience was amazing david made sure that we knew everything about the property ahead of time and the place was in perfect condition when we arrived it was the perfect isolated getaway that we were looking for the lake was nice and warm for swimming and with lots of seating both at the water and around the fire pit there was always somewhere to relax and enjoy nature we didn t get to use the sauna this time around but it looked great and we will be sure to next time there were enough beds for everyone all nice and clean so no one had to sleep on a couch the fire pit had grills for cooking so we were able to stay outside all weekend not getting cooped up in the cottage i would absolutely recommend this property to anyone looking for a nice getaway from the busy world i will be returning to david s cottage ',\n",
       "       'david s place is truly an amazing experience the notion of private lake is not an understatement i visited the cottage with other friends and it was beyond all of our expectations if you do not need a phone for a weekend this is truly the place to stay authentic cottage separate bunky cabin sauna outdoor shower stay would book again david is also an amazing host and instantly helped us out of a jam when our car would not start on the way out not even that hiccup could ruin the experience ',\n",
       "       'charming rustic spot with a beautiful private lake dave s place is very basic but it s what makes it charming a great escape from the city ',\n",
       "       'bushman ',\n",
       "       'by phone most guests will enjoy the unique chance to be on their own but any level of hosting can be negotiated i might show up for check in and out depending on which way the wind is blowing me on those days ',\n",
       "       'the pictures of this place don t do it justice as soon as we arrived it was clear we were in for a great weekend ',\n",
       "       'an amazing private retreat for a group beautiful lake all to yourselves a rustic but perfectly maintained main cottage with cool little bunkie sauna was an excellent addition as it heated water for the cabin as well as a outdoor shower the dock out on the lake was a perfect spot to relax and the fire pit was handy for its nice size grill good spot',\n",
       "       'great location would come back anytime',\n",
       "       'david s cottage is absolutely amazing david answered all our questions and concerns quickly and helped whenever we had questions during our stay the lake and view is worth every pennie the cottage itself is beautiful and has alot of amenities such as the sauna and hot water system will be booking again soon ',\n",
       "       'this cottage is something out of the past you get to have your peace and quiet away from the crazy city life and just be in tune with nature my cell battery lasted me the whole long weekend there and it usually doesn t last me half a day it feels good to be away from those kind of distractions and have a breath of fresh air with a view of a private lake and be surrounded by trees the view of the sky at night is breathtaking with no city lights around and the lake was much nicer than we had thought ',\n",
       "       'this was a great experience our group enjoyed the seclusion of the cabin and private lake i recommend bringing a canoe we spent most of our time in ours out on the water fishing or swimming we did all of our cooking on the fire pit i recommend bringing charcoals david was a great host and was available i would definitely return for another stay ',\n",
       "       'best airbnb experience ever david is super nice and patient he will give you very detailed information about almost anything you will ever need to know during the stay the property is stunning and private we all had great fun pictures can t show how beautiful it is p s the raccoons in the grass at night kinda scared my girlfriend but surely they were harmless ',\n",
       "       'this place is amazing my friends and i we all love this place those pictures on airbnb just can t show how beautiful this place is you have to see it with your own eyes david is patient and hospitable he answered all my questions and give me a lot of advice to make our stay more comfortable and unforgettable ',\n",
       "       'we re only a couple of hours removed from staying at michabo and miss the place already michabo really is one of the most beautiful private locations you could ever imagine dave is an exemplary airbnb host and goes out of his way to make sure his guests are taken care of have had some amazing times here already and am looking forward to making some more memories the next time around thanks again ',\n",
       "       'this was our third trip here and we are already looking forward to coming back next year you can t beat this amazing spot beautiful property amazing water privacy and so peaceful david is a great host who respects the great outdoors always asks for ways that he can improve the experience for others lots of extra space to pitch tents lots of pots pans in the kitchen great grilling pit heavenly sauna shower i would do anything to live here ',\n",
       "       'pictures absolutely don t do this place justice the cabin is beautiful rustic and spacious being on a private lake is such a treat the water is gorgeous and calm and we took full advantage of the huge floating dock and the jumping rocks david is an excellent communicator and a wonderful host folks in my group have come twice and we re definitely going to make this an annual thing five stars ',\n",
       "       'perfect nothing better we were blown away by this property it is stunning and comfortable i wouldn t change a thing it s great to have total privacy in such a pristine environment david was incredibly hospitable and a real gent thnaks ',\n",
       "       'quiet picturesque and peaceful a getaway from the city in every way off grid living at its most luxurious outdoor showers saunas and an outhouse with a view our group of had more than enough space and loved every minute of the experience dave is helpful and always a call away ',\n",
       "       'this place is a treasure from the past totally if you have parents or grandparents who talk about the good old days then you must visit and stay they don t tell you about the wonderful stars at night or wolf howls or bear poop in the back lane but they also don t remember stinky outhouse or making a fire to last all night and stay warm most of all they wont tell you about cooking a lb turkey and thanksgiving dinner the old fashioned way it s a must do stayed here with my kids ages and perfect escape with no electricity but there is cell data service so you do have the best of both worlds if you have a battery back up ',\n",
       "       'we love michabo thank you ',\n",
       "       'david is a wonderful and attentive host who obviously cares about your experience on this unique property this was our second trip to this cabin and we would do anything to stay here forever this is paradise and an unbelievably serene experience the lake is stunning and the cabin is quite spacious potentially my favorite place in ontario ',\n",
       "       'wonderful cottage fantastic scenery beautiful lake for swimming and fishing all round a brilliant place to stay very authentic canadian feel to the place and dave was an absolute gentleman helping us plan our trip ',\n",
       "       'there was absolutely nothing that could have made this experience any better the perfect getaway for anyone who just wants to get away from everything the cabin was amazing the surroundings were jaw dropping and our host david couldn t have been more accommodating reiterating multiple times that we could call him at any time with any questions or concerns we will be rebooking for multiple weekends for years to come an absolute pleasure ',\n",
       "       'david s property well exceeded expectations pictures could never do this place justice a truly secluded paradise for those who enjoy simplicity at the cottage i will absolutely be back here with friends and family in the future ',\n",
       "       'we had the most wonderful stay on lake michabo relaxing and completely private we were in heaven great to be unplugged from the outside world too dave was one of the best hosts ever so communicative and available it really put our minds at ease and we enjoyed read more',\n",
       "       'this was our second time at david s cottage in west guilford and it was just as amazing as the first the biggest draw of this space for us was the total privacy no one around to bother or be bothered by our group of was more than comfortable inside the cottage with read more',\n",
       "       'we had a wonderful stay at michabo we stayed two nights and david was available by phone to answer any questions at any time not that there were too many questions the cabin was well set up for our convenience the lack of electricity actually made the stay that much more enjoyable without electronics we were able to enjoy the beautiful private lake and land the cabin and bunk house slept very comfortably we will definitely be contacting david for future visits ',\n",
       "       'we had an amazing long weekend at dave s cabin the lake is completely private and the cabin is beautiful the pictures don t do justice to how great the place really is we spent the whole weekend swimming sitting in the sauna and cooking great food on the fire pit ten adults were more than comfortable the cabin provides just about everything you d need including firewood hot water and a propane fridge for us this was the perfect mix of creature comforts and rustic living dave was very helpful and always available he ensured we were completely comfortable with the operation of the property before leaving us to enjoy the lake none of us wanted to leave and we will definitely be coming back perfect for families or friend groups if you want to feel like francis mallmann in patagonia this place is for you ',\n",
       "       'dave was a wonderful host and the cottage was absolutely beautiful we had a wonderful time and hope to visit again the privacy here is great and the cottage is the perfect rustic cabin in the woods ',\n",
       "       'very good environment nice place to stay ',\n",
       "       'david the host he was very helpful and available he gave us all info over the phone and made sure we are safe and sound the cabin it was like walking into a museum going back in time the place was clean and had plenty of room for of us we only used the main cabin as there was enough room for all of us the area this place was beautiful and secluded very quiet with magnificent view advise if you like quiet and secluded place with private lake i strongly recommend this place just make sure you take your own water overall we enjoyed our time and had a blast',\n",
       "       'have rented this place twice now dave was an incredible host very accommodating and makes every effort to make sure everything is in order prior to arrival accommodations are exactly as displayed beautiful setting would strongly recommend it to anyone looking for an off grid getaway ',\n",
       "       'this is my nd tour david s property hours away from city very rugged and totally private we had an unforgetable days hunting fishing trip for group of six and we are planning come back at anytime next year',\n",
       "       'couldn t have been happier with this amazing spot a perfect retreat from the the city dave was helpful and made himself readily available the place has a rustic off grid feel yet provided our group of all the comforts we needed our friends from ireland were blown away a great way to experience the best of what canada has to offer i will be back ',\n",
       "       'this beautiful property is definitely undersold in the listing the property itself is huge and was perfect for our stay and the cottage and workshop comfortably fit of us with plenty of extra room the cottage used to be a research camp of sorts and is filled with character the view from the private lake was lovely and the privacy offered us the opportunity to not worry about causing a disturbance or being disturbed perhaps most importantly dave made it clear he was available hours a day and didn t hesitate to help when we called him with a few queries our entire group has nothing but good things to say about dave and his property and we ll absolutely be back ',\n",
       "       'we rented david s total privacy haliburton place and really liked it david is an amazing host and is available for any questions that you have this is an amazing place to spend few days we also stayed at david s stay in rugged haliburton highlands on the same trip this place is heaven on earth beautiful quite area with private access to the lake we really enjoyed our stay i highly recommend david s both places to anyone who wants have the best cottage experience of their lives the natural beauty of both places are breathtaking the combination of best host david and the cottages equals to a memorable cottage experience simply the best ',\n",
       "       'the gals and i had a fabulous time at michabo it was exactly the kind of spot we were looking for private gorgeous and surrounded by forest the dock was wonderful for spending the day in the sun the hills are nice and tough for jogging the water clear and refreshing for swimming the sauna is a great touch and the lake produced a nice bass for part of supper saturday we brought linens and water and were very happy with the kitchen well equipped and large enough to allow for many helping hands we also made great use of the grills by the fire pit which were very handy the rope swing across the lake gave a few of us a run for our money david was helpful and informative helping us figure out exactly how to make it a perfect stay definitely definitely recommend this to anyone seeking a more rustic back to nature getaway ',\n",
       "       'this cottage is awesome very rugged and totally private beautiful little private lake with good fishing and lots of space to explore david was very helpful and available leading up to our vacation loved the sauna and outdoor shower and tub especially we ll definitely be going back thanks david ',\n",
       "       'our stay at this private lake was wonderful my large group and i love camping so this property was a real treat complete privacy the entire lake to ourselves space for everyone and a fire pit the cabin was even better than expected with a fridge stove top lanterns and a wood stove it s super cosy many among my group said the outdoor shower was the best they ve ever had in their lives the sauna too was the perfect way to warm up after a dip in the lake we would definitely recommend it to anyone who is looking for privacy and a rustic experience everyone in my group is telling me they want to go back david was a great person to get to know very helpful and available if i had any questions i have nothing bad to say the only thing i d note is the dirt road to get to the cabin can be a bit treacherous so i wouldn t recommend it to anyone with a very low car and i wouldn t drive at night ultimately we didn t have any trouble though ',\n",
       "       'i can t recommend this place more dave was available anytime for any questions we had and the cabin was the perfect balance of a rustic back to nature experience and a comfortable cottage stay warming up in the wood fire sauna cooking on the firepit and having a whole lake to yourself swimming as the sun comes up are experiences you simply won t have at a regular cottage getting away and being off the grid was something i definitely appreciated i will for sure be heading back up there again ',\n",
       "       'dave was very quick to respond to us and was always available by phone whenever we needed any tips or help on working things in the cottage he gave us some very helpful suggestions in preparation for our trip we loved the authenticity and privacy of the cottage the decor furniture and overall estate had such unique old school characters a few of us also got to enjoy the sauna which was perfect for a rainy day the hiking trails were interestingly fun as well and invited a sense of adventure ',\n",
       "       'serene peaceful and total privacy that s what we experienced while staying at dave s property a great host he walked us through the entire process and prepared ourselves with one of the best cottaging experience we ve ever had your own private lake a nice and cozy bedroom cottage nestled in a acred wooded paradise fishing hiking to all your heart s content it was just starting to get chilly at night but the wood burning fireplace kept the place nice and inviting would definitely go back in a heart beat ',\n",
       "       'our long weekend at david s cottage on michabo lake was incredible we loved the landscapes the privacy and the rawness of the cottage cabin experience the sauna and the outdoor bathtubs are also highlights david was really great to communicate with from the time of the booking to our stay we will definitively be back ',\n",
       "       'michabo lake was a paradise getaway it was very sad leaving it behind on our last day the dock on the lake is like being at the bottom of your own private amphitheatre surrounded by the forested hills the cottage has a unique rustic feel about it but is very intelligently designed and comfortable our weekend was exceptionally rainy and so the sauna was another magical corner for hanging out david was a great host really easy going and very helpful our group is definitely planning on coming back thanks david ',\n",
       "       'my family had wonderful time before canada s day long weekend dave is extremely nice guy to dealing with i ve already shared my story with friends n planning to come back soon ',\n",
       "       'the place was excellent it really was great privacy with exclusive use of the lake and trails near by we had a lot of fun david thought us the ins and outs of the cabin and sauna and was always available by phone if we had a question i would throughly recommend staying here to anyone ',\n",
       "       'david s place is an incredible gem hidden away in the woods the cabin was just what we all needed to escape our busy schedules and have an awesome guys weekend of fishing and shenanigans if you appreciate historic amenities like iron wood fire stoves and antique ice boxes this place doubles as an awesome museum for ontario history the beds were quite comfortable and the cabin clean and tidy when we arrived the sauna and outdoor tub added to the trip s rustic luxury stay to the right on the little dirt road and just when you think you re lost you ll find yourself in a little forest oasis bring a rod and hit the dock well worth the journey from alaska ',\n",
       "       'this retreat was great it was private rustic and relaxing the lake is much larger than i thought and the water was great to swim in the cottage and cabins were exactly what we were looking for thanks david ',\n",
       "       'outstanding historical relaxing it s hard to describe the beauties with words really hope all visitors take good care of the place and keep it just the way it is ',\n",
       "       'stayed here multiple times a unique cabin perfect for getting away from the city and the more overbuilt parts of cottage country good for groups ',\n",
       "       'this was our rd summer in a row staying at dave s place and it was as great as always his property is amazing and we always wish we could stay longer definitely going to be back next summer ',\n",
       "       'this place is pretty special the accomodation is like a lake shore holiday antique movie set completely constructed from exposed timber with years of accumulated knick knacks from enormous antique fireplaces and ovens to small trinkets and random old worldly fishing and read more',\n",
       "       'this was our second summer in a row staying at michabo and it was just as great as the first we love the property and private lake and the sauna is amazing definitely planning on going back and would highly recommend to everyone ',\n",
       "       'we came and stayed in the cottage during the last weekend of this september this place has a nice view especially the lake you can see the beautiful sunrise and even stay all day at the lake also it is really fun to do barbecue near the house as that s a fire pit there dave is really helpful and he can always answer the call thank you dave it was an enjoyable experience and i look forward to come again next time ',\n",
       "       'we had an amazing days at dave s cottage the private lake was beautiful and the perfect size and we loved the diving rock rope swing on the other side of the lake the cabin was the perfect size for of us all very cozy and comfortable the sauna was also amazing along with the fire pit to keep us entertained and warm at night would definitely come back anytime ',\n",
       "       'david was very helpful in everyday possible he made us feel very welcome and we were so lucky to experience and stay at his beautiful property we were in a group of and spent the entire weekend at his property with our own private lake sauna and walking trails to explore it was a great escape from the city will definitely recommend this place and david as a host to any fellow traveller ',\n",
       "       'david s place is absolutely amazing i would definitely recommend it to any group hoping to get out into the wilderness and take a break from the city scape me and a group of others went out to this home for a weekend away and really enjoyed swimming in the private lake stoking fires indoor and outdoor and generally taking a break from technology in a very quaint and very removed setting thank you so much david '],\n",
       "      dtype=object)"
      ]
     },
     "execution_count": 162,
     "metadata": {},
     "output_type": "execute_result"
    }
   ],
   "source": [
    "pd.options.display.max_colwidth = 1000\n",
    "#removing punctuations\n",
    "data['Processed'] = data['Reviews'].apply(lambda x: re.sub('[^a-zA-Z]', ' ', x)) \n",
    "\n",
    "#changing all characters to lowercase\n",
    "data['Processed'] = data['Processed'].apply(lambda x: x.lower()) \n",
    "\n",
    "#removing texts\n",
    "data['Processed'] = data['Processed'].apply(lambda x: re.sub(\"&lt;/?.*?&gt;\",\" &lt;&gt; \", x))\n",
    "\n",
    "# remove special characters and digits\n",
    "data['Processed'] = data['Processed'].apply(lambda x: re.sub(\"(\\\\d|\\\\W)+\",\" \",x))\n",
    "data['Processed'].values"
   ]
  },
  {
   "cell_type": "code",
   "execution_count": 150,
   "metadata": {},
   "outputs": [],
   "source": [
    "##In built list of stopwords in the English Language\n",
    "stop_words = set(stopwords.words(\"english\"))\n",
    "\n",
    "##Creating a list of custom stopwords\n",
    "new_words = [\"enough\", \"make\", \"come\", \"large\", \"also\", \"iv\", \"one\", \"two\", \"new\", \"previously\", \"shown\"]\n",
    "stop_words = stop_words.union(new_words)"
   ]
  },
  {
   "cell_type": "code",
   "execution_count": 174,
   "metadata": {},
   "outputs": [
    {
     "data": {
      "text/html": [
       "<div>\n",
       "<style scoped>\n",
       "    .dataframe tbody tr th:only-of-type {\n",
       "        vertical-align: middle;\n",
       "    }\n",
       "\n",
       "    .dataframe tbody tr th {\n",
       "        vertical-align: top;\n",
       "    }\n",
       "\n",
       "    .dataframe thead th {\n",
       "        text-align: right;\n",
       "    }\n",
       "</style>\n",
       "<table border=\"1\" class=\"dataframe\">\n",
       "  <thead>\n",
       "    <tr style=\"text-align: right;\">\n",
       "      <th></th>\n",
       "      <th>Reviews</th>\n",
       "      <th>Word Count</th>\n",
       "      <th>Sentence Count</th>\n",
       "      <th>Processed</th>\n",
       "      <th>Keywords</th>\n",
       "    </tr>\n",
       "  </thead>\n",
       "  <tbody>\n",
       "    <tr>\n",
       "      <th>0</th>\n",
       "      <td>Incredibly unique and beautiful spot. There is no other property like it. It's very private and ideal for a modest outdoorsman. There are more than enough touches to make it a comfortable stay. The lake and sauna are very relaxing and should definitely be enjoyed. The cabin is very well equipped and comes with chopped firewood so the stay can be easy. Dave was a great host and a phone call away to answer our questions. Will definitely consider returning!!</td>\n",
       "      <td>80</td>\n",
       "      <td>9</td>\n",
       "      <td>incredibly unique and beautiful spot there is no other property like it it s very private and ideal for a modest outdoorsman there are more than enough touches to make it a comfortable stay the lake and sauna are very relaxing and should definitely be enjoyed the cabin is very well equipped and comes with chopped firewood so the stay can be easy dave was a great host and a phone call away to answer our questions will definitely consider returning</td>\n",
       "      <td>[incredibly, unique, beautiful, spot, property, like, private, ideal, modest, outdoorsman, enough, touch, make, comfortable, stay, lake, sauna, relaxing, definitely, enjoyed, cabin, well, equipped, come, chopped, firewood, stay, easy, dave, great, host, phone, call, away, answer, question, definitely, consider, returning]</td>\n",
       "    </tr>\n",
       "    <tr>\n",
       "      <th>1</th>\n",
       "      <td>This cottage offers a rare opportunity it experience Canadian beauty without intrusion from the outside world. Clean and comfortable an all round amazing trip.</td>\n",
       "      <td>24</td>\n",
       "      <td>3</td>\n",
       "      <td>this cottage offers a rare opportunity it experience canadian beauty without intrusion from the outside world clean and comfortable an all round amazing trip</td>\n",
       "      <td>[cottage, offer, rare, opportunity, experience, canadian, beauty, without, intrusion, outside, world, clean, comfortable, round, amazing, trip]</td>\n",
       "    </tr>\n",
       "    <tr>\n",
       "      <th>2</th>\n",
       "      <td>Our stay at Michabo lake was fantastic. The cabin and bunkie were tidy, the beds were comfortable, and the lake was great for swimming and fishing. It was very private. We had plenty of cooking amenities, and the hot water from the sauna was great for showers and doing dishes. All in all a very relaxing weekend at the lake.</td>\n",
       "      <td>60</td>\n",
       "      <td>6</td>\n",
       "      <td>our stay at michabo lake was fantastic the cabin and bunkie were tidy the beds were comfortable and the lake was great for swimming and fishing it was very private we had plenty of cooking amenities and the hot water from the sauna was great for showers and doing dishes all in all a very relaxing weekend at the lake</td>\n",
       "      <td>[stay, michabo, lake, fantastic, cabin, bunkie, tidy, bed, comfortable, lake, great, swimming, fishing, private, plenty, cooking, amenity, hot, water, sauna, great, shower, dish, relaxing, weekend, lake]</td>\n",
       "    </tr>\n",
       "    <tr>\n",
       "      <th>3</th>\n",
       "      <td>This is an OUTSTANDING place! It is extremely rare that you can find such a secluded place with all lake just for you. The cottage actually has everything that you need, it accomdates 10 people comfortably, and everything is in good condition. The shower is outside the sauna, but really the water in the lake is so warm, that we never used that shower. The forest around the cottage is amazing and full of life. I would highly recommend this place to anyone. Also, please take into account that you need to have enough space in your trunk to pick up your garbage (the nearest landfill is the West Guilford Landfill site), don't repeat our mistake. This is an extraordinary getaway for people who want to retreat from busy city life.</td>\n",
       "      <td>131</td>\n",
       "      <td>8</td>\n",
       "      <td>this is an outstanding place it is extremely rare that you can find such a secluded place with all lake just for you the cottage actually has everything that you need it accomdates people comfortably and everything is in good condition the shower is outside the sauna but really the water in the lake is so warm that we never used that shower the forest around the cottage is amazing and full of life i would highly recommend this place to anyone also please take into account that you need to have enough space in your trunk to pick up your garbage the nearest landfill is the west guilford landfill site don t repeat our mistake this is an extraordinary getaway for people who want to retreat from busy city life</td>\n",
       "      <td>[outstanding, place, extremely, rare, find, secluded, place, lake, cottage, actually, everything, need, accomdates, people, comfortably, everything, good, condition, shower, outside, sauna, really, water, lake, warm, never, used, shower, forest, around, cottage, amazing, full, life, would, highly, recommend, place, anyone, also, please, take, account, need, enough, space, trunk, pick, garbage, nearest, landfill, west, guilford, landfill, site, repeat, mistake, extraordinary, getaway, people, want, retreat, busy, city, life]</td>\n",
       "    </tr>\n",
       "    <tr>\n",
       "      <th>4</th>\n",
       "      <td>I stayed at David's cottage for a family getaway this summer. The whole experience was amazing. David made sure that we knew everything about the property ahead of time and the place was in perfect condition when we arrived. It was the perfect isolated getaway that we were looking for. The lake was nice and warm for swimming and with lots of seating both at the water and around the fire pit there was always somewhere to relax and enjoy nature. We didn't get to use the sauna this time around, but it looked great and we will be sure to next time. There were enough beds for everyone (all nice and clean) so no one had to sleep on a couch. The fire pit had grills for cooking, so we were able to stay outside all weekend, not getting cooped up in the cottage. I would absolutely recommend this property to anyone looking for a nice getaway from the busy world. I will 100% be returning to David's cottage.</td>\n",
       "      <td>170</td>\n",
       "      <td>11</td>\n",
       "      <td>i stayed at david s cottage for a family getaway this summer the whole experience was amazing david made sure that we knew everything about the property ahead of time and the place was in perfect condition when we arrived it was the perfect isolated getaway that we were looking for the lake was nice and warm for swimming and with lots of seating both at the water and around the fire pit there was always somewhere to relax and enjoy nature we didn t get to use the sauna this time around but it looked great and we will be sure to next time there were enough beds for everyone all nice and clean so no one had to sleep on a couch the fire pit had grills for cooking so we were able to stay outside all weekend not getting cooped up in the cottage i would absolutely recommend this property to anyone looking for a nice getaway from the busy world i will be returning to david s cottage</td>\n",
       "      <td>[stayed, david, cottage, family, getaway, summer, whole, experience, amazing, david, made, sure, knew, everything, property, ahead, time, place, perfect, condition, arrived, perfect, isolated, getaway, looking, lake, nice, warm, swimming, lot, seating, water, around, fire, pit, always, somewhere, relax, enjoy, nature, get, use, sauna, time, around, looked, great, sure, next, time, enough, bed, everyone, nice, clean, one, sleep, couch, fire, pit, grill, cooking, able, stay, outside, weekend, getting, cooped, cottage, would, absolutely, recommend, property, anyone, looking, nice, getaway, busy, world, returning, david, cottage]</td>\n",
       "    </tr>\n",
       "  </tbody>\n",
       "</table>\n",
       "</div>"
      ],
      "text/plain": [
       "                                                                                                                                                                                                                                                                                                                                                                                                                                                                                                                                                                                                                                                                                                                                                                                                                                                                                                                                        Reviews  \\\n",
       "0                                                                                                                                                                                                                                                                                                                                                                                                                                                                   Incredibly unique and beautiful spot. There is no other property like it. It's very private and ideal for a modest outdoorsman. There are more than enough touches to make it a comfortable stay. The lake and sauna are very relaxing and should definitely be enjoyed. The cabin is very well equipped and comes with chopped firewood so the stay can be easy. Dave was a great host and a phone call away to answer our questions. Will definitely consider returning!!   \n",
       "1                                                                                                                                                                                                                                                                                                                                                                                                                                                                                                                                                                                                                                                                                                                                                                               This cottage offers a rare opportunity it experience Canadian beauty without intrusion from the outside world. Clean and comfortable an all round amazing trip.   \n",
       "2                                                                                                                                                                                                                                                                                                                                                                                                                                                                                                                                                                                                         Our stay at Michabo lake was fantastic. The cabin and bunkie were tidy, the beds were comfortable, and the lake was great for swimming and fishing. It was very private. We had plenty of cooking amenities, and the hot water from the sauna was great for showers and doing dishes. All in all a very relaxing weekend at the lake.   \n",
       "3                                                                                                                                                                                 This is an OUTSTANDING place! It is extremely rare that you can find such a secluded place with all lake just for you. The cottage actually has everything that you need, it accomdates 10 people comfortably, and everything is in good condition. The shower is outside the sauna, but really the water in the lake is so warm, that we never used that shower. The forest around the cottage is amazing and full of life. I would highly recommend this place to anyone. Also, please take into account that you need to have enough space in your trunk to pick up your garbage (the nearest landfill is the West Guilford Landfill site), don't repeat our mistake. This is an extraordinary getaway for people who want to retreat from busy city life.   \n",
       "4  I stayed at David's cottage for a family getaway this summer. The whole experience was amazing. David made sure that we knew everything about the property ahead of time and the place was in perfect condition when we arrived. It was the perfect isolated getaway that we were looking for. The lake was nice and warm for swimming and with lots of seating both at the water and around the fire pit there was always somewhere to relax and enjoy nature. We didn't get to use the sauna this time around, but it looked great and we will be sure to next time. There were enough beds for everyone (all nice and clean) so no one had to sleep on a couch. The fire pit had grills for cooking, so we were able to stay outside all weekend, not getting cooped up in the cottage. I would absolutely recommend this property to anyone looking for a nice getaway from the busy world. I will 100% be returning to David's cottage.   \n",
       "\n",
       "   Word Count  Sentence Count  \\\n",
       "0          80               9   \n",
       "1          24               3   \n",
       "2          60               6   \n",
       "3         131               8   \n",
       "4         170              11   \n",
       "\n",
       "                                                                                                                                                                                                                                                                                                                                                                                                                                                                                                                                                                                                                                                                                                                                                                                                                                                                                                                   Processed  \\\n",
       "0                                                                                                                                                                                                                                                                                                                                                                                                                                                        incredibly unique and beautiful spot there is no other property like it it s very private and ideal for a modest outdoorsman there are more than enough touches to make it a comfortable stay the lake and sauna are very relaxing and should definitely be enjoyed the cabin is very well equipped and comes with chopped firewood so the stay can be easy dave was a great host and a phone call away to answer our questions will definitely consider returning    \n",
       "1                                                                                                                                                                                                                                                                                                                                                                                                                                                                                                                                                                                                                                                                                                                                                             this cottage offers a rare opportunity it experience canadian beauty without intrusion from the outside world clean and comfortable an all round amazing trip    \n",
       "2                                                                                                                                                                                                                                                                                                                                                                                                                                                                                                                                                                                             our stay at michabo lake was fantastic the cabin and bunkie were tidy the beds were comfortable and the lake was great for swimming and fishing it was very private we had plenty of cooking amenities and the hot water from the sauna was great for showers and doing dishes all in all a very relaxing weekend at the lake    \n",
       "3                                                                                                                                                                                this is an outstanding place it is extremely rare that you can find such a secluded place with all lake just for you the cottage actually has everything that you need it accomdates people comfortably and everything is in good condition the shower is outside the sauna but really the water in the lake is so warm that we never used that shower the forest around the cottage is amazing and full of life i would highly recommend this place to anyone also please take into account that you need to have enough space in your trunk to pick up your garbage the nearest landfill is the west guilford landfill site don t repeat our mistake this is an extraordinary getaway for people who want to retreat from busy city life    \n",
       "4  i stayed at david s cottage for a family getaway this summer the whole experience was amazing david made sure that we knew everything about the property ahead of time and the place was in perfect condition when we arrived it was the perfect isolated getaway that we were looking for the lake was nice and warm for swimming and with lots of seating both at the water and around the fire pit there was always somewhere to relax and enjoy nature we didn t get to use the sauna this time around but it looked great and we will be sure to next time there were enough beds for everyone all nice and clean so no one had to sleep on a couch the fire pit had grills for cooking so we were able to stay outside all weekend not getting cooped up in the cottage i would absolutely recommend this property to anyone looking for a nice getaway from the busy world i will be returning to david s cottage    \n",
       "\n",
       "                                                                                                                                                                                                                                                                                                                                                                                                                                                                                                                                                                                                                                                    Keywords  \n",
       "0                                                                                                                                                                                                                                                                                                                        [incredibly, unique, beautiful, spot, property, like, private, ideal, modest, outdoorsman, enough, touch, make, comfortable, stay, lake, sauna, relaxing, definitely, enjoyed, cabin, well, equipped, come, chopped, firewood, stay, easy, dave, great, host, phone, call, away, answer, question, definitely, consider, returning]  \n",
       "1                                                                                                                                                                                                                                                                                                                                                                                                                                                                                                            [cottage, offer, rare, opportunity, experience, canadian, beauty, without, intrusion, outside, world, clean, comfortable, round, amazing, trip]  \n",
       "2                                                                                                                                                                                                                                                                                                                                                                                                                                                [stay, michabo, lake, fantastic, cabin, bunkie, tidy, bed, comfortable, lake, great, swimming, fishing, private, plenty, cooking, amenity, hot, water, sauna, great, shower, dish, relaxing, weekend, lake]  \n",
       "3                                                                                                          [outstanding, place, extremely, rare, find, secluded, place, lake, cottage, actually, everything, need, accomdates, people, comfortably, everything, good, condition, shower, outside, sauna, really, water, lake, warm, never, used, shower, forest, around, cottage, amazing, full, life, would, highly, recommend, place, anyone, also, please, take, account, need, enough, space, trunk, pick, garbage, nearest, landfill, west, guilford, landfill, site, repeat, mistake, extraordinary, getaway, people, want, retreat, busy, city, life]  \n",
       "4  [stayed, david, cottage, family, getaway, summer, whole, experience, amazing, david, made, sure, knew, everything, property, ahead, time, place, perfect, condition, arrived, perfect, isolated, getaway, looking, lake, nice, warm, swimming, lot, seating, water, around, fire, pit, always, somewhere, relax, enjoy, nature, get, use, sauna, time, around, looked, great, sure, next, time, enough, bed, everyone, nice, clean, one, sleep, couch, fire, pit, grill, cooking, able, stay, outside, weekend, getting, cooped, cottage, would, absolutely, recommend, property, anyone, looking, nice, getaway, busy, world, returning, david, cottage]  "
      ]
     },
     "execution_count": 174,
     "metadata": {},
     "output_type": "execute_result"
    }
   ],
   "source": [
    "##Convert from String to List\n",
    "data['Keywords'] = data['Processed'].apply(lambda x: x.split())\n",
    "\n",
    "##Stemming\n",
    "ps=PorterStemmer()\n",
    "#Lemmatisation\n",
    "lem = WordNetLemmatizer()\n",
    "\n",
    "dictionary = []\n",
    "def function(x):\n",
    "    words = []\n",
    "    for word in x: \n",
    "        if not word in stop_words: \n",
    "            words.append(lem.lemmatize(word))\n",
    "            dictionary.append(lem.lemmatize(word))\n",
    "    return words\n",
    "data['Keywords'] = data['Keywords'].apply(lambda x: function(x))\n",
    "data.head()\n",
    "#text = \" \".join(text)\n",
    "#corpus.append(text)\n",
    "#data.head()"
   ]
  },
  {
   "cell_type": "code",
   "execution_count": 186,
   "metadata": {},
   "outputs": [
    {
     "data": {
      "text/plain": [
       "lake          46\n",
       "place         43\n",
       "david         41\n",
       "cottage       36\n",
       "great         31\n",
       "stay          29\n",
       "private       28\n",
       "cabin         27\n",
       "amazing       22\n",
       "sauna         22\n",
       "back          22\n",
       "beautiful     21\n",
       "dave          21\n",
       "experience    21\n",
       "u             21\n",
       "property      19\n",
       "definitely    19\n",
       "perfect       18\n",
       "time          18\n",
       "host          17\n",
       "Name: Keywords, dtype: int64"
      ]
     },
     "execution_count": 186,
     "metadata": {},
     "output_type": "execute_result"
    }
   ],
   "source": [
    "dict_df = pd.DataFrame(dictionary, columns = ['Keywords'])\n",
    "dict_df['Keywords'].value_counts()[:20]"
   ]
  },
  {
   "cell_type": "code",
   "execution_count": 177,
   "metadata": {},
   "outputs": [
    {
     "ename": "ModuleNotFoundError",
     "evalue": "No module named 'wordcloud'",
     "output_type": "error",
     "traceback": [
      "\u001b[1;31m---------------------------------------------------------------------------\u001b[0m",
      "\u001b[1;31mModuleNotFoundError\u001b[0m                       Traceback (most recent call last)",
      "\u001b[1;32m<ipython-input-177-31e33b75cbeb>\u001b[0m in \u001b[0;36m<module>\u001b[1;34m()\u001b[0m\n\u001b[0;32m      2\u001b[0m \u001b[1;32mfrom\u001b[0m \u001b[0mos\u001b[0m \u001b[1;32mimport\u001b[0m \u001b[0mpath\u001b[0m\u001b[1;33m\u001b[0m\u001b[0m\n\u001b[0;32m      3\u001b[0m \u001b[1;32mfrom\u001b[0m \u001b[0mPIL\u001b[0m \u001b[1;32mimport\u001b[0m \u001b[0mImage\u001b[0m\u001b[1;33m\u001b[0m\u001b[0m\n\u001b[1;32m----> 4\u001b[1;33m \u001b[1;32mimport\u001b[0m \u001b[0mwordcloud\u001b[0m\u001b[1;33m\u001b[0m\u001b[0m\n\u001b[0m\u001b[0;32m      5\u001b[0m \u001b[1;32mfrom\u001b[0m \u001b[0mwordcloud\u001b[0m \u001b[1;32mimport\u001b[0m \u001b[0mWordCloud\u001b[0m\u001b[1;33m,\u001b[0m \u001b[0mSTOPWORDS\u001b[0m\u001b[1;33m,\u001b[0m \u001b[0mImageColorGenerator\u001b[0m\u001b[1;33m\u001b[0m\u001b[0m\n\u001b[0;32m      6\u001b[0m \u001b[1;32mimport\u001b[0m \u001b[0mmatplotlib\u001b[0m\u001b[1;33m.\u001b[0m\u001b[0mpyplot\u001b[0m \u001b[1;32mas\u001b[0m \u001b[0mplt\u001b[0m\u001b[1;33m\u001b[0m\u001b[0m\n",
      "\u001b[1;31mModuleNotFoundError\u001b[0m: No module named 'wordcloud'"
     ]
    }
   ],
   "source": [
    "#Word cloud\n",
    "from os import path\n",
    "from PIL import Image\n",
    "from wordcloud import WordCloud, STOPWORDS, ImageColorGenerator\n",
    "import matplotlib.pyplot as plt\n",
    "% matplotlib inline\n",
    "wordcloud = WordCloud(\n",
    "                          background_color='white',\n",
    "                          stopwords=stop_words,\n",
    "                          max_words=100,\n",
    "                          max_font_size=50, \n",
    "                          random_state=42\n",
    "                         ).generate(str(dictionary)) #enter the list with the words here\n",
    "print(wordcloud)\n",
    "fig = plt.figure(1)\n",
    "plt.imshow(wordcloud)\n",
    "plt.axis('off')\n",
    "plt.show()\n",
    "fig.savefig(\"word1.png\", dpi=900)"
   ]
  },
  {
   "cell_type": "code",
   "execution_count": 167,
   "metadata": {},
   "outputs": [],
   "source": [
    "corpus = []\n",
    "for i in range(0, 60):\n",
    "    #Remove punctuations\n",
    "    text = re.sub('[^a-zA-Z]', ' ', data['Reviews'][i])\n",
    "    \n",
    "    #Convert to lowercase\n",
    "    text = text.lower()\n",
    "    \n",
    "    #remove tags\n",
    "    text=re.sub(\"&lt;/?.*?&gt;\",\" &lt;&gt; \",text)\n",
    "    \n",
    "    # remove special characters and digits\n",
    "    text=re.sub(\"(\\\\d|\\\\W)+\",\" \",text)\n",
    "    \n",
    "    ##Convert to list from string\n",
    "    text = text.split()\n",
    "    \n",
    "    ##Stemming\n",
    "    ps=PorterStemmer()\n",
    "    #Lemmatisation\n",
    "    lem = WordNetLemmatizer()\n",
    "    text = [lem.lemmatize(word) for word in text if not word in  \n",
    "            stop_words] \n",
    "    text = \" \".join(text)\n",
    "    corpus.append(text)"
   ]
  },
  {
   "cell_type": "code",
   "execution_count": 153,
   "metadata": {},
   "outputs": [
    {
     "data": {
      "text/plain": [
       "['incredibly unique beautiful spot property like private ideal modest outdoorsman enough touch make comfortable stay lake sauna relaxing definitely enjoyed cabin well equipped come chopped firewood stay easy dave great host phone call away answer question definitely consider returning',\n",
       " 'cottage offer rare opportunity experience canadian beauty without intrusion outside world clean comfortable round amazing trip',\n",
       " 'stay michabo lake fantastic cabin bunkie tidy bed comfortable lake great swimming fishing private plenty cooking amenity hot water sauna great shower dish relaxing weekend lake',\n",
       " 'outstanding place extremely rare find secluded place lake cottage actually everything need accomdates people comfortably everything good condition shower outside sauna really water lake warm never used shower forest around cottage amazing full life would highly recommend place anyone also please take account need enough space trunk pick garbage nearest landfill west guilford landfill site repeat mistake extraordinary getaway people want retreat busy city life',\n",
       " 'stayed david cottage family getaway summer whole experience amazing david made sure knew everything property ahead time place perfect condition arrived perfect isolated getaway looking lake nice warm swimming lot seating water around fire pit always somewhere relax enjoy nature get use sauna time around looked great sure next time enough bed everyone nice clean one sleep couch fire pit grill cooking able stay outside weekend getting cooped cottage would absolutely recommend property anyone looking nice getaway busy world returning david cottage',\n",
       " 'david place truly amazing experience notion private lake understatement visited cottage friend beyond expectation need phone weekend truly place stay authentic cottage separate bunky cabin sauna outdoor shower stay would book david also amazing host instantly helped u jam car would start way even hiccup could ruin experience',\n",
       " 'charming rustic spot beautiful private lake dave place basic make charming great escape city',\n",
       " 'bushman',\n",
       " 'phone guest enjoy unique chance level hosting negotiated might show check depending way wind blowing day',\n",
       " 'picture place justice soon arrived clear great weekend',\n",
       " 'amazing private retreat group beautiful lake rustic perfectly maintained main cottage cool little bunkie sauna excellent addition heated water cabin well outdoor shower dock lake perfect spot relax fire pit handy nice size grill good spot',\n",
       " 'great location would come back anytime',\n",
       " 'david cottage absolutely amazing david answered question concern quickly helped whenever question stay lake view worth every pennie cottage beautiful alot amenity sauna hot water system booking soon',\n",
       " 'cottage something past get peace quiet away crazy city life tune nature cell battery lasted whole long weekend usually last half day feel good away kind distraction breath fresh air view private lake surrounded tree view sky night breathtaking city light around lake much nicer thought',\n",
       " 'great experience group enjoyed seclusion cabin private lake recommend bringing canoe spent time water fishing swimming cooking fire pit recommend bringing charcoal david great host available would definitely return another stay',\n",
       " 'best airbnb experience ever david super nice patient give detailed information almost anything ever need know stay property stunning private great fun picture show beautiful p raccoon grass night kinda scared girlfriend surely harmless',\n",
       " 'place amazing friend love place picture airbnb show beautiful place see eye david patient hospitable answered question give lot advice make stay comfortable unforgettable',\n",
       " 'couple hour removed staying michabo miss place already michabo really one beautiful private location could ever imagine dave exemplary airbnb host go way make sure guest taken care amazing time already looking forward making memory next time around thanks',\n",
       " 'third trip already looking forward coming back next year beat amazing spot beautiful property amazing water privacy peaceful david great host respect great outdoors always asks way improve experience others lot extra space pitch tent lot pot pan kitchen great grilling pit heavenly sauna shower would anything live',\n",
       " 'picture absolutely place justice cabin beautiful rustic spacious private lake treat water gorgeous calm took full advantage huge floating dock jumping rock david excellent communicator wonderful host folk group come twice definitely going make annual thing five star',\n",
       " 'perfect nothing better blown away property stunning comfortable change thing great total privacy pristine environment david incredibly hospitable real gent thnaks',\n",
       " 'quiet picturesque peaceful getaway city every way grid living luxurious outdoor shower sauna outhouse view group enough space loved every minute experience dave helpful always call away',\n",
       " 'place treasure past totally parent grandparent talk good old day must visit stay tell wonderful star night wolf howl bear poop back lane also remember stinky outhouse making fire last night stay warm wont tell cooking lb turkey thanksgiving dinner old fashioned way must stayed kid age perfect escape electricity cell data service best world battery back',\n",
       " 'love michabo thank',\n",
       " 'david wonderful attentive host obviously care experience unique property second trip cabin would anything stay forever paradise unbelievably serene experience lake stunning cabin quite spacious potentially favorite place ontario',\n",
       " 'wonderful cottage fantastic scenery beautiful lake swimming fishing round brilliant place stay authentic canadian feel place dave absolute gentleman helping u plan trip',\n",
       " 'absolutely nothing could made experience better perfect getaway anyone want get away everything cabin amazing surroundings jaw dropping host david accommodating reiterating multiple time could call time question concern rebooking multiple weekend year come absolute pleasure',\n",
       " 'david property well exceeded expectation picture could never place justice truly secluded paradise enjoy simplicity cottage absolutely back friend family future',\n",
       " 'wonderful stay lake michabo relaxing completely private heaven great unplugged outside world dave one best host ever communicative available really put mind ease enjoyed read',\n",
       " 'second time david cottage west guilford amazing first biggest draw space u total privacy one around bother bothered group comfortable inside cottage read',\n",
       " 'wonderful stay michabo stayed two night david available phone answer question time many question cabin well set convenience lack electricity actually made stay much enjoyable without electronics able enjoy beautiful private lake land cabin bunk house slept comfortably definitely contacting david future visit',\n",
       " 'amazing long weekend dave cabin lake completely private cabin beautiful picture justice great place really spent whole weekend swimming sitting sauna cooking great food fire pit ten adult comfortable cabin provides everything need including firewood hot water propane fridge u perfect mix creature comfort rustic living dave helpful always available ensured completely comfortable operation property leaving u enjoy lake none u wanted leave definitely coming back perfect family friend group want feel like francis mallmann patagonia place',\n",
       " 'dave wonderful host cottage absolutely beautiful wonderful time hope visit privacy great cottage perfect rustic cabin wood',\n",
       " 'good environment nice place stay',\n",
       " 'david host helpful available gave u info phone made sure safe sound cabin like walking museum going back time place clean plenty room u used main cabin enough room u area place beautiful secluded quiet magnificent view advise like quiet secluded place private lake strongly recommend place make sure take water overall enjoyed time blast',\n",
       " 'rented place twice dave incredible host accommodating make every effort make sure everything order prior arrival accommodation exactly displayed beautiful setting would strongly recommend anyone looking grid getaway',\n",
       " 'nd tour david property hour away city rugged totally private unforgetable day hunting fishing trip group six planning come back anytime next year',\n",
       " 'happier amazing spot perfect retreat city dave helpful made readily available place rustic grid feel yet provided group comfort needed friend ireland blown away great way experience best canada offer back',\n",
       " 'beautiful property definitely undersold listing property huge perfect stay cottage workshop comfortably fit u plenty extra room cottage used research camp sort filled character view private lake lovely privacy offered u opportunity worry causing disturbance disturbed perhaps importantly dave made clear available hour day hesitate help called query entire group nothing good thing say dave property absolutely back',\n",
       " 'rented david total privacy haliburton place really liked david amazing host available question amazing place spend day also stayed david stay rugged haliburton highland trip place heaven earth beautiful quite area private access lake really enjoyed stay highly recommend david place anyone want best cottage experience life natural beauty place breathtaking combination best host david cottage equal memorable cottage experience simply best',\n",
       " 'gal fabulous time michabo exactly kind spot looking private gorgeous surrounded forest dock wonderful spending day sun hill nice tough jogging water clear refreshing swimming sauna great touch lake produced nice bass part supper saturday brought linen water happy kitchen well equipped large enough allow many helping hand also made great use grill fire pit handy rope swing across lake gave u run money david helpful informative helping u figure exactly make perfect stay definitely definitely recommend anyone seeking rustic back nature getaway',\n",
       " 'cottage awesome rugged totally private beautiful little private lake good fishing lot space explore david helpful available leading vacation loved sauna outdoor shower tub especially definitely going back thanks david',\n",
       " 'stay private lake wonderful large group love camping property real treat complete privacy entire lake space everyone fire pit cabin even better expected fridge stove top lantern wood stove super cosy many among group said outdoor shower best ever life sauna perfect way warm dip lake would definitely recommend anyone looking privacy rustic experience everyone group telling want go back david great person get know helpful available question nothing bad say thing note dirt road get cabin bit treacherous recommend anyone low car drive night ultimately trouble though',\n",
       " 'recommend place dave available anytime question cabin perfect balance rustic back nature experience comfortable cottage stay warming wood fire sauna cooking firepit whole lake swimming sun come experience simply regular cottage getting away grid something definitely appreciated sure heading back',\n",
       " 'dave quick respond u always available phone whenever needed tip help working thing cottage gave u helpful suggestion preparation trip loved authenticity privacy cottage decor furniture overall estate unique old school character u also got enjoy sauna perfect rainy day hiking trail interestingly fun well invited sense adventure',\n",
       " 'serene peaceful total privacy experienced staying dave property great host walked u entire process prepared one best cottaging experience ever private lake nice cozy bedroom cottage nestled acred wooded paradise fishing hiking heart content starting get chilly night wood burning fireplace kept place nice inviting would definitely go back heart beat',\n",
       " 'long weekend david cottage michabo lake incredible loved landscape privacy rawness cottage cabin experience sauna outdoor bathtub also highlight david really great communicate time booking stay definitively back',\n",
       " 'michabo lake paradise getaway sad leaving behind last day dock lake like bottom private amphitheatre surrounded forested hill cottage unique rustic feel intelligently designed comfortable weekend exceptionally rainy sauna another magical corner hanging david great host really easy going helpful group definitely planning coming back thanks david',\n",
       " 'family wonderful time canada day long weekend dave extremely nice guy dealing already shared story friend n planning come back soon',\n",
       " 'place excellent really great privacy exclusive use lake trail near lot fun david thought u in out cabin sauna always available phone question would throughly recommend staying anyone',\n",
       " 'david place incredible gem hidden away wood cabin needed escape busy schedule awesome guy weekend fishing shenanigan appreciate historic amenity like iron wood fire stove antique ice box place double awesome museum ontario history bed quite comfortable cabin clean tidy arrived sauna outdoor tub added trip rustic luxury stay right little dirt road think lost find little forest oasis bring rod hit dock well worth journey alaska',\n",
       " 'retreat great private rustic relaxing lake much larger thought water great swim cottage cabin exactly looking thanks david',\n",
       " 'outstanding historical relaxing hard describe beauty word really hope visitor take good care place keep way',\n",
       " 'stayed multiple time unique cabin perfect getting away city overbuilt part cottage country good group',\n",
       " 'rd summer row staying dave place great always property amazing always wish could stay longer definitely going back next summer',\n",
       " 'place pretty special accomodation like lake shore holiday antique movie set completely constructed exposed timber year accumulated knick knack enormous antique fireplace oven small trinket random old worldly fishing read',\n",
       " 'second summer row staying michabo great first love property private lake sauna amazing definitely planning going back would highly recommend everyone',\n",
       " 'came stayed cottage last weekend september place nice view especially lake see beautiful sunrise even stay day lake also really fun barbecue near house fire pit dave really helpful always answer call thank dave enjoyable experience look forward come next time',\n",
       " 'amazing day dave cottage private lake beautiful perfect size loved diving rock rope swing side lake cabin perfect size u cozy comfortable sauna also amazing along fire pit keep u entertained warm night would definitely come back anytime',\n",
       " 'david helpful everyday possible made u feel welcome lucky experience stay beautiful property group spent entire weekend property private lake sauna walking trail explore great escape city definitely recommend place david host fellow traveller']"
      ]
     },
     "execution_count": 153,
     "metadata": {},
     "output_type": "execute_result"
    }
   ],
   "source": [
    "corpus"
   ]
  },
  {
   "cell_type": "code",
   "execution_count": null,
   "metadata": {},
   "outputs": [],
   "source": []
  }
 ],
 "metadata": {
  "kernelspec": {
   "display_name": "Python 3",
   "language": "python",
   "name": "python3"
  },
  "language_info": {
   "codemirror_mode": {
    "name": "ipython",
    "version": 3
   },
   "file_extension": ".py",
   "mimetype": "text/x-python",
   "name": "python",
   "nbconvert_exporter": "python",
   "pygments_lexer": "ipython3",
   "version": "3.6.5"
  }
 },
 "nbformat": 4,
 "nbformat_minor": 2
}
